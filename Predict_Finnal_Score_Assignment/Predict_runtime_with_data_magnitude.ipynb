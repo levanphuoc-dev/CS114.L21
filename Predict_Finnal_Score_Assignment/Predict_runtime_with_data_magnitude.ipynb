{
  "nbformat": 4,
  "nbformat_minor": 0,
  "metadata": {
    "colab": {
      "name": "Predict_runtime_with_data_magnitude.ipynb",
      "provenance": [],
      "collapsed_sections": [],
      "mount_file_id": "1udjFdpxYlzcR0RyajsMTOLj3-pHbKyVX",
      "authorship_tag": "ABX9TyPQsQLRFl2YLIDqA3eYLF3d",
      "include_colab_link": true
    },
    "kernelspec": {
      "name": "python3",
      "display_name": "Python 3"
    },
    "language_info": {
      "name": "python"
    }
  },
  "cells": [
    {
      "cell_type": "markdown",
      "metadata": {
        "id": "view-in-github",
        "colab_type": "text"
      },
      "source": [
        "<a href=\"https://colab.research.google.com/github/vanviethieuanh/CS114.L21/blob/main/Predict_runtime_with_data_magnitude.ipynb\" target=\"_parent\"><img src=\"https://colab.research.google.com/assets/colab-badge.svg\" alt=\"Open In Colab\"/></a>"
      ]
    },
    {
      "cell_type": "code",
      "metadata": {
        "id": "uQxDMQBR6zib"
      },
      "source": [
        "import pandas as pd\n",
        "df_train = pd.read_csv('/content/drive/MyDrive/Colab Notebooks/Predict_runtime_with_data_magnitude/data2.csv')\n",
        "df_test = pd.read_csv('/content/drive/MyDrive/Colab Notebooks/Predict_runtime_with_data_magnitude/data3.csv')"
      ],
      "execution_count": 1,
      "outputs": []
    },
    {
      "cell_type": "code",
      "metadata": {
        "id": "hiWKlGnGBBt-",
        "colab": {
          "base_uri": "https://localhost:8080/"
        },
        "outputId": "0bc96ac6-92c6-4443-cafa-11bb047f49f6"
      },
      "source": [
        "import numpy as np\n",
        "x_train = np.array(df_train['Size']).reshape(-1, 1)\n",
        "y_train = np.array(df_train['Time'])\n",
        "x_test = np.array(df_test['Size']).reshape(-1, 1)\n",
        "y_test = np.array(df_test['Time'])\n",
        "print('Train dataset:')\n",
        "print(x_train)\n",
        "print(y_train)\n",
        "print('Test dataset:')\n",
        "print(x_test)\n",
        "print(y_test)"
      ],
      "execution_count": 4,
      "outputs": [
        {
          "output_type": "stream",
          "text": [
            "Train dataset:\n",
            "[[6083695]\n",
            " [1954367]\n",
            " [3734185]\n",
            " ...\n",
            " [9837364]\n",
            " [9466593]\n",
            " [4080801]]\n",
            "[0.521842 0.152648 0.298548 ... 0.801394 0.776407 0.314468]\n",
            "Test dataset:\n",
            "[[37837612]\n",
            " [37395246]\n",
            " [36610827]\n",
            " ...\n",
            " [33520323]\n",
            " [21243264]\n",
            " [21380484]]\n",
            "[4.12166 3.92089 3.2154  ... 2.90918 1.80292 1.82795]\n"
          ],
          "name": "stdout"
        }
      ]
    },
    {
      "cell_type": "code",
      "metadata": {
        "id": "ZqA2LTgoeTGf"
      },
      "source": [
        "from sklearn.linear_model import LinearRegression\n",
        "lr = LinearRegression().fit(x_train,y_train)"
      ],
      "execution_count": 7,
      "outputs": []
    },
    {
      "cell_type": "code",
      "metadata": {
        "colab": {
          "base_uri": "https://localhost:8080/"
        },
        "id": "rJ6FGM6UqLTb",
        "outputId": "c21d4318-3124-4e56-dd35-8d73f561316f"
      },
      "source": [
        "from sklearn.metrics import mean_squared_error\n",
        "import math\n",
        "print('mean squared error with training dataset: ')\n",
        "print(math.sqrt(mean_squared_error(y_train, lr.predict(x_train))))\n",
        "print('mean squared error with testing dataset: ')\n",
        "print(math.sqrt(mean_squared_error(y_test, lr.predict(x_test))))"
      ],
      "execution_count": 9,
      "outputs": [
        {
          "output_type": "stream",
          "text": [
            "mean squared error with training dataset: \n",
            "0.011974025522667318\n",
            "mean squared error with testing dataset: \n",
            "0.14375308482794058\n"
          ],
          "name": "stdout"
        }
      ]
    }
  ]
}