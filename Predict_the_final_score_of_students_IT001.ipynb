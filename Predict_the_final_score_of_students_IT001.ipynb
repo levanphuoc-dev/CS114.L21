{
  "nbformat": 4,
  "nbformat_minor": 0,
  "metadata": {
    "colab": {
      "name": "Predict_the_final_score_of_students_IT001.ipynb",
      "provenance": [],
      "collapsed_sections": [],
      "include_colab_link": true
    },
    "kernelspec": {
      "name": "python3",
      "display_name": "Python 3"
    },
    "language_info": {
      "name": "python"
    }
  },
  "cells": [
    {
      "cell_type": "markdown",
      "metadata": {
        "id": "view-in-github",
        "colab_type": "text"
      },
      "source": [
        "<a href=\"https://colab.research.google.com/github/vanviethieuanh/CS114.L21/blob/main/Predict_the_final_score_of_students_IT001.ipynb\" target=\"_parent\"><img src=\"https://colab.research.google.com/assets/colab-badge.svg\" alt=\"Open In Colab\"/></a>"
      ]
    },
    {
      "cell_type": "markdown",
      "metadata": {
        "id": "h6aFEvX62veo"
      },
      "source": [
        "**CS114.L21 - MÁY HỌC - MACHINE LEARNING**\n",
        "\n",
        "**BÀI TẬP COLAB SỐ 03 (17/05/2021)**"
      ]
    },
    {
      "cell_type": "markdown",
      "metadata": {
        "id": "99hoJkfB26g4"
      },
      "source": [
        "**1. YÊU CẦU:**\n",
        "\n",
        "+ Data discovery"
      ]
    },
    {
      "cell_type": "markdown",
      "metadata": {
        "id": "63EDvvaa3BD2"
      },
      "source": [
        "**2. NHÓM THỰC HIỆN**\n",
        "\n",
        "+ Nguyễn Đại Kỳ - 19521731 - 19521731@gm.uit.edu.vn\n",
        "+ Văn Viết Hiếu Anh - 19521225 - 19521225@gm.uit.edu.vn\n",
        "+ Lê Văn Phước - 19522054 - 19522054@gm.uit.edu.vn"
      ]
    },
    {
      "cell_type": "markdown",
      "metadata": {
        "id": "zNw5JUUQ3dRH"
      },
      "source": [
        "**3. LINK GITHUB**\n",
        "\n",
        "+ Link GitHub bài làm: https://github.com/vanviethieuanh/CS114.L21/blob/main/Predict_the_final_score_of_students_IT001.ipynb\n",
        "\n",
        "+ Link GitHub dataset: https://drive.google.com/drive/folders/1WHVKhGP-z7mJg8B8HumeRqS10c-RUYhu?usp=sharing"
      ]
    },
    {
      "cell_type": "markdown",
      "metadata": {
        "id": "lTOW8JpP4Yu9"
      },
      "source": [
        "**4. SOURCE CODE**"
      ]
    },
    {
      "cell_type": "markdown",
      "metadata": {
        "id": "EcXFE-emi9qY"
      },
      "source": [
        "**4.1. Nguồn tham khảo**"
      ]
    },
    {
      "cell_type": "markdown",
      "metadata": {
        "id": "egMlcJP2l7Mu"
      },
      "source": [
        "1. Polynomial Regression with Scikit learn: https://scikit-learn.org/stable/modules/generated/sklearn.preprocessing.PolynomialFeatures.html\n",
        "2. "
      ]
    },
    {
      "cell_type": "markdown",
      "metadata": {
        "id": "-ohZRo-b8ojG"
      },
      "source": [
        "**4.2. Code**"
      ]
    },
    {
      "cell_type": "markdown",
      "metadata": {
        "id": "vg3RfD5kjHr-"
      },
      "source": [
        "**4.2.1. Đọc dữ liệu, phân tích dữ liệu**"
      ]
    },
    {
      "cell_type": "code",
      "metadata": {
        "colab": {
          "base_uri": "https://localhost:8080/"
        },
        "id": "YKnAZEz-Ec6i",
        "outputId": "af19bae3-4e3d-4a3d-bcbc-70955ced45f4"
      },
      "source": [
        "from google.colab import drive\n",
        "drive.mount('/content/drive')"
      ],
      "execution_count": null,
      "outputs": [
        {
          "output_type": "stream",
          "text": [
            "Mounted at /content/drive\n"
          ],
          "name": "stdout"
        }
      ]
    },
    {
      "cell_type": "code",
      "metadata": {
        "id": "pZSjrx8q3gZH"
      },
      "source": [
        "import pandas as pd\n",
        "df_x = pd.read_csv('/content/drive/MyDrive/Colab Notebooks/Predict_the_final_score_of_students_IT001/wecode.csv')\n",
        "df_y = pd.read_csv('/content/drive/MyDrive/Colab Notebooks/Predict_the_final_score_of_students_IT001/score_training.csv')"
      ],
      "execution_count": null,
      "outputs": []
    },
    {
      "cell_type": "code",
      "metadata": {
        "colab": {
          "base_uri": "https://localhost:8080/",
          "height": 511
        },
        "id": "BCOLzKck5lv6",
        "outputId": "a3e54c2c-6f40-454a-8e6e-18874a156030"
      },
      "source": [
        "df_x.head(10)"
      ],
      "execution_count": null,
      "outputs": [
        {
          "output_type": "execute_result",
          "data": {
            "text/html": [
              "<div>\n",
              "<style scoped>\n",
              "    .dataframe tbody tr th:only-of-type {\n",
              "        vertical-align: middle;\n",
              "    }\n",
              "\n",
              "    .dataframe tbody tr th {\n",
              "        vertical-align: top;\n",
              "    }\n",
              "\n",
              "    .dataframe thead th {\n",
              "        text-align: right;\n",
              "    }\n",
              "</style>\n",
              "<table border=\"1\" class=\"dataframe\">\n",
              "  <thead>\n",
              "    <tr style=\"text-align: right;\">\n",
              "      <th></th>\n",
              "      <th>id</th>\n",
              "      <th>assignment_id</th>\n",
              "      <th>problem_id</th>\n",
              "      <th>user_id</th>\n",
              "      <th>is_final</th>\n",
              "      <th>status</th>\n",
              "      <th>pre_score</th>\n",
              "      <th>coefficient</th>\n",
              "      <th>file_name</th>\n",
              "      <th>language_id</th>\n",
              "      <th>created_at</th>\n",
              "      <th>updated_at</th>\n",
              "    </tr>\n",
              "  </thead>\n",
              "  <tbody>\n",
              "    <tr>\n",
              "      <th>0</th>\n",
              "      <td>4</td>\n",
              "      <td>0</td>\n",
              "      <td>3</td>\n",
              "      <td>4</td>\n",
              "      <td>1</td>\n",
              "      <td>SCORE</td>\n",
              "      <td>10000</td>\n",
              "      <td>100</td>\n",
              "      <td>solution-0</td>\n",
              "      <td>2</td>\n",
              "      <td>2020-10-30 10:58:11</td>\n",
              "      <td>2020-10-30 10:58:19</td>\n",
              "    </tr>\n",
              "    <tr>\n",
              "      <th>1</th>\n",
              "      <td>5</td>\n",
              "      <td>0</td>\n",
              "      <td>4</td>\n",
              "      <td>4</td>\n",
              "      <td>1</td>\n",
              "      <td>SCORE</td>\n",
              "      <td>10000</td>\n",
              "      <td>100</td>\n",
              "      <td>solution-1</td>\n",
              "      <td>2</td>\n",
              "      <td>2020-10-30 11:07:09</td>\n",
              "      <td>2020-10-30 11:07:17</td>\n",
              "    </tr>\n",
              "    <tr>\n",
              "      <th>2</th>\n",
              "      <td>6</td>\n",
              "      <td>0</td>\n",
              "      <td>5</td>\n",
              "      <td>4</td>\n",
              "      <td>0</td>\n",
              "      <td>Compilation Error</td>\n",
              "      <td>0</td>\n",
              "      <td>100</td>\n",
              "      <td>solution-2</td>\n",
              "      <td>2</td>\n",
              "      <td>2020-10-30 11:08:01</td>\n",
              "      <td>2020-10-30 11:23:36</td>\n",
              "    </tr>\n",
              "    <tr>\n",
              "      <th>3</th>\n",
              "      <td>7</td>\n",
              "      <td>0</td>\n",
              "      <td>5</td>\n",
              "      <td>4</td>\n",
              "      <td>0</td>\n",
              "      <td>Compilation Error</td>\n",
              "      <td>0</td>\n",
              "      <td>100</td>\n",
              "      <td>solution-3</td>\n",
              "      <td>2</td>\n",
              "      <td>2020-10-30 11:11:41</td>\n",
              "      <td>2020-10-30 11:11:42</td>\n",
              "    </tr>\n",
              "    <tr>\n",
              "      <th>4</th>\n",
              "      <td>8</td>\n",
              "      <td>0</td>\n",
              "      <td>5</td>\n",
              "      <td>4</td>\n",
              "      <td>0</td>\n",
              "      <td>Compilation Error</td>\n",
              "      <td>0</td>\n",
              "      <td>100</td>\n",
              "      <td>solution-4</td>\n",
              "      <td>2</td>\n",
              "      <td>2020-10-30 11:15:06</td>\n",
              "      <td>2020-10-30 11:15:07</td>\n",
              "    </tr>\n",
              "    <tr>\n",
              "      <th>5</th>\n",
              "      <td>9</td>\n",
              "      <td>0</td>\n",
              "      <td>5</td>\n",
              "      <td>4</td>\n",
              "      <td>0</td>\n",
              "      <td>Compilation Error</td>\n",
              "      <td>0</td>\n",
              "      <td>100</td>\n",
              "      <td>solution-5</td>\n",
              "      <td>2</td>\n",
              "      <td>2020-10-30 11:16:57</td>\n",
              "      <td>2020-10-30 11:16:58</td>\n",
              "    </tr>\n",
              "    <tr>\n",
              "      <th>6</th>\n",
              "      <td>10</td>\n",
              "      <td>0</td>\n",
              "      <td>6</td>\n",
              "      <td>4</td>\n",
              "      <td>1</td>\n",
              "      <td>SCORE</td>\n",
              "      <td>10000</td>\n",
              "      <td>100</td>\n",
              "      <td>solution-6</td>\n",
              "      <td>2</td>\n",
              "      <td>2020-10-30 11:18:47</td>\n",
              "      <td>2020-10-30 11:18:55</td>\n",
              "    </tr>\n",
              "    <tr>\n",
              "      <th>7</th>\n",
              "      <td>11</td>\n",
              "      <td>0</td>\n",
              "      <td>7</td>\n",
              "      <td>4</td>\n",
              "      <td>1</td>\n",
              "      <td>SCORE</td>\n",
              "      <td>10000</td>\n",
              "      <td>100</td>\n",
              "      <td>solution-7</td>\n",
              "      <td>2</td>\n",
              "      <td>2020-10-30 11:20:07</td>\n",
              "      <td>2020-10-30 11:20:15</td>\n",
              "    </tr>\n",
              "    <tr>\n",
              "      <th>8</th>\n",
              "      <td>12</td>\n",
              "      <td>0</td>\n",
              "      <td>8</td>\n",
              "      <td>4</td>\n",
              "      <td>1</td>\n",
              "      <td>SCORE</td>\n",
              "      <td>10000</td>\n",
              "      <td>100</td>\n",
              "      <td>solution-8</td>\n",
              "      <td>2</td>\n",
              "      <td>2020-10-30 11:21:02</td>\n",
              "      <td>2020-10-30 11:21:10</td>\n",
              "    </tr>\n",
              "    <tr>\n",
              "      <th>9</th>\n",
              "      <td>13</td>\n",
              "      <td>0</td>\n",
              "      <td>9</td>\n",
              "      <td>4</td>\n",
              "      <td>1</td>\n",
              "      <td>SCORE</td>\n",
              "      <td>10000</td>\n",
              "      <td>100</td>\n",
              "      <td>solution-9</td>\n",
              "      <td>2</td>\n",
              "      <td>2020-10-30 11:21:36</td>\n",
              "      <td>2020-10-30 11:21:44</td>\n",
              "    </tr>\n",
              "  </tbody>\n",
              "</table>\n",
              "</div>"
            ],
            "text/plain": [
              "   id  assignment_id  ...           created_at           updated_at\n",
              "0   4              0  ...  2020-10-30 10:58:11  2020-10-30 10:58:19\n",
              "1   5              0  ...  2020-10-30 11:07:09  2020-10-30 11:07:17\n",
              "2   6              0  ...  2020-10-30 11:08:01  2020-10-30 11:23:36\n",
              "3   7              0  ...  2020-10-30 11:11:41  2020-10-30 11:11:42\n",
              "4   8              0  ...  2020-10-30 11:15:06  2020-10-30 11:15:07\n",
              "5   9              0  ...  2020-10-30 11:16:57  2020-10-30 11:16:58\n",
              "6  10              0  ...  2020-10-30 11:18:47  2020-10-30 11:18:55\n",
              "7  11              0  ...  2020-10-30 11:20:07  2020-10-30 11:20:15\n",
              "8  12              0  ...  2020-10-30 11:21:02  2020-10-30 11:21:10\n",
              "9  13              0  ...  2020-10-30 11:21:36  2020-10-30 11:21:44\n",
              "\n",
              "[10 rows x 12 columns]"
            ]
          },
          "metadata": {
            "tags": []
          },
          "execution_count": 6
        }
      ]
    },
    {
      "cell_type": "code",
      "metadata": {
        "colab": {
          "base_uri": "https://localhost:8080/"
        },
        "id": "d-SJuWee50lK",
        "outputId": "bcba009b-2b15-4113-9003-834afe64c108"
      },
      "source": [
        "df_x.info()"
      ],
      "execution_count": null,
      "outputs": [
        {
          "output_type": "stream",
          "text": [
            "<class 'pandas.core.frame.DataFrame'>\n",
            "RangeIndex: 264606 entries, 0 to 264605\n",
            "Data columns (total 12 columns):\n",
            " #   Column         Non-Null Count   Dtype \n",
            "---  ------         --------------   ----- \n",
            " 0   id             264606 non-null  int64 \n",
            " 1   assignment_id  264606 non-null  int64 \n",
            " 2   problem_id     264606 non-null  int64 \n",
            " 3   user_id        264606 non-null  int64 \n",
            " 4   is_final       264606 non-null  int64 \n",
            " 5   status         264605 non-null  object\n",
            " 6   pre_score      264606 non-null  int64 \n",
            " 7   coefficient    264606 non-null  object\n",
            " 8   file_name      264606 non-null  object\n",
            " 9   language_id    264606 non-null  int64 \n",
            " 10  created_at     264606 non-null  object\n",
            " 11  updated_at     264606 non-null  object\n",
            "dtypes: int64(7), object(5)\n",
            "memory usage: 24.2+ MB\n"
          ],
          "name": "stdout"
        }
      ]
    },
    {
      "cell_type": "code",
      "metadata": {
        "colab": {
          "base_uri": "https://localhost:8080/",
          "height": 343
        },
        "id": "UFDJYI4K58ZC",
        "outputId": "5fd266ba-5755-475a-f82d-d78530bc1394"
      },
      "source": [
        "df_y.head(10)"
      ],
      "execution_count": null,
      "outputs": [
        {
          "output_type": "execute_result",
          "data": {
            "text/html": [
              "<div>\n",
              "<style scoped>\n",
              "    .dataframe tbody tr th:only-of-type {\n",
              "        vertical-align: middle;\n",
              "    }\n",
              "\n",
              "    .dataframe tbody tr th {\n",
              "        vertical-align: top;\n",
              "    }\n",
              "\n",
              "    .dataframe thead th {\n",
              "        text-align: right;\n",
              "    }\n",
              "</style>\n",
              "<table border=\"1\" class=\"dataframe\">\n",
              "  <thead>\n",
              "    <tr style=\"text-align: right;\">\n",
              "      <th></th>\n",
              "      <th>id</th>\n",
              "      <th>QT</th>\n",
              "      <th>GK</th>\n",
              "      <th>TH</th>\n",
              "      <th>CK</th>\n",
              "      <th>TBM</th>\n",
              "      <th>TBTL</th>\n",
              "    </tr>\n",
              "  </thead>\n",
              "  <tbody>\n",
              "    <tr>\n",
              "      <th>0</th>\n",
              "      <td>22</td>\n",
              "      <td>10</td>\n",
              "      <td>9</td>\n",
              "      <td>8.5</td>\n",
              "      <td>8.5</td>\n",
              "      <td>8.8</td>\n",
              "      <td>8.52</td>\n",
              "    </tr>\n",
              "    <tr>\n",
              "      <th>1</th>\n",
              "      <td>24</td>\n",
              "      <td>10</td>\n",
              "      <td>8</td>\n",
              "      <td>10</td>\n",
              "      <td>9.5</td>\n",
              "      <td>9.4</td>\n",
              "      <td>8.41</td>\n",
              "    </tr>\n",
              "    <tr>\n",
              "      <th>2</th>\n",
              "      <td>27</td>\n",
              "      <td>10</td>\n",
              "      <td>10</td>\n",
              "      <td>10</td>\n",
              "      <td>10</td>\n",
              "      <td>10</td>\n",
              "      <td>8.67</td>\n",
              "    </tr>\n",
              "    <tr>\n",
              "      <th>3</th>\n",
              "      <td>28</td>\n",
              "      <td>10</td>\n",
              "      <td>9.5</td>\n",
              "      <td>7.5</td>\n",
              "      <td>9.5</td>\n",
              "      <td>9.2</td>\n",
              "      <td>7.39</td>\n",
              "    </tr>\n",
              "    <tr>\n",
              "      <th>4</th>\n",
              "      <td>29</td>\n",
              "      <td>10</td>\n",
              "      <td>9.5</td>\n",
              "      <td>5</td>\n",
              "      <td>8.5</td>\n",
              "      <td>8.2</td>\n",
              "      <td>8.05</td>\n",
              "    </tr>\n",
              "    <tr>\n",
              "      <th>5</th>\n",
              "      <td>30</td>\n",
              "      <td>10</td>\n",
              "      <td>10</td>\n",
              "      <td>9</td>\n",
              "      <td>9</td>\n",
              "      <td>9.3</td>\n",
              "      <td>8.63</td>\n",
              "    </tr>\n",
              "    <tr>\n",
              "      <th>6</th>\n",
              "      <td>34</td>\n",
              "      <td></td>\n",
              "      <td></td>\n",
              "      <td>9</td>\n",
              "      <td>6.5</td>\n",
              "      <td></td>\n",
              "      <td>6.24</td>\n",
              "    </tr>\n",
              "    <tr>\n",
              "      <th>7</th>\n",
              "      <td>35</td>\n",
              "      <td>7</td>\n",
              "      <td>9.5</td>\n",
              "      <td>6</td>\n",
              "      <td>4.5</td>\n",
              "      <td>6.2</td>\n",
              "      <td>5.75</td>\n",
              "    </tr>\n",
              "    <tr>\n",
              "      <th>8</th>\n",
              "      <td>36</td>\n",
              "      <td>4.5</td>\n",
              "      <td>8</td>\n",
              "      <td>9</td>\n",
              "      <td>7</td>\n",
              "      <td>7.6</td>\n",
              "      <td>8.51</td>\n",
              "    </tr>\n",
              "    <tr>\n",
              "      <th>9</th>\n",
              "      <td>37</td>\n",
              "      <td>5.5</td>\n",
              "      <td>5.5</td>\n",
              "      <td>7.5</td>\n",
              "      <td>7.5</td>\n",
              "      <td>6.9</td>\n",
              "      <td>8.27</td>\n",
              "    </tr>\n",
              "  </tbody>\n",
              "</table>\n",
              "</div>"
            ],
            "text/plain": [
              "   id   QT   GK   TH   CK  TBM  TBTL\n",
              "0  22   10    9  8.5  8.5  8.8  8.52\n",
              "1  24   10    8   10  9.5  9.4  8.41\n",
              "2  27   10   10   10   10   10  8.67\n",
              "3  28   10  9.5  7.5  9.5  9.2  7.39\n",
              "4  29   10  9.5    5  8.5  8.2  8.05\n",
              "5  30   10   10    9    9  9.3  8.63\n",
              "6  34              9  6.5       6.24\n",
              "7  35    7  9.5    6  4.5  6.2  5.75\n",
              "8  36  4.5    8    9    7  7.6  8.51\n",
              "9  37  5.5  5.5  7.5  7.5  6.9  8.27"
            ]
          },
          "metadata": {
            "tags": []
          },
          "execution_count": 8
        }
      ]
    },
    {
      "cell_type": "code",
      "metadata": {
        "colab": {
          "base_uri": "https://localhost:8080/"
        },
        "id": "H3uUvQZ06Keb",
        "outputId": "ded213c1-d5d7-4626-ce00-b788cf794538"
      },
      "source": [
        "df_y.info()"
      ],
      "execution_count": null,
      "outputs": [
        {
          "output_type": "stream",
          "text": [
            "<class 'pandas.core.frame.DataFrame'>\n",
            "RangeIndex: 975 entries, 0 to 974\n",
            "Data columns (total 7 columns):\n",
            " #   Column  Non-Null Count  Dtype \n",
            "---  ------  --------------  ----- \n",
            " 0   id      975 non-null    int64 \n",
            " 1   QT      973 non-null    object\n",
            " 2   GK      974 non-null    object\n",
            " 3   TH      974 non-null    object\n",
            " 4   CK      974 non-null    object\n",
            " 5   TBM     974 non-null    object\n",
            " 6   TBTL    974 non-null    object\n",
            "dtypes: int64(1), object(6)\n",
            "memory usage: 53.4+ KB\n"
          ],
          "name": "stdout"
        }
      ]
    },
    {
      "cell_type": "code",
      "metadata": {
        "id": "LnJAbpRc5JG1"
      },
      "source": [
        "# Lấy ra những dữ liệu cần thiết\n",
        "import numpy as np\n",
        "X = np.array([df_x['user_id'], df_x['problem_id'], df_x['pre_score'],df_x['is_final'], df_x['status']]).T\n",
        "y_train = np.array([df_y['id'], df_y['CK']]).T"
      ],
      "execution_count": null,
      "outputs": []
    },
    {
      "cell_type": "code",
      "metadata": {
        "colab": {
          "base_uri": "https://localhost:8080/"
        },
        "id": "wl-hugdm8KSs",
        "outputId": "463468ef-ffac-4514-e9ef-68bd9b0b9e33"
      },
      "source": [
        "print('X: \\n',X[0:10])\n",
        "print('y_train:\\n',y_train[0:10])"
      ],
      "execution_count": null,
      "outputs": [
        {
          "output_type": "stream",
          "text": [
            "X: \n",
            " [[4 3 10000 1 'SCORE']\n",
            " [4 4 10000 1 'SCORE']\n",
            " [4 5 0 0 'Compilation Error']\n",
            " [4 5 0 0 'Compilation Error']\n",
            " [4 5 0 0 'Compilation Error']\n",
            " [4 5 0 0 'Compilation Error']\n",
            " [4 6 10000 1 'SCORE']\n",
            " [4 7 10000 1 'SCORE']\n",
            " [4 8 10000 1 'SCORE']\n",
            " [4 9 10000 1 'SCORE']]\n",
            "y_train:\n",
            " [[22 '8.5']\n",
            " [24 '9.5']\n",
            " [27 '10']\n",
            " [28 '9.5']\n",
            " [29 '8.5']\n",
            " [30 '9']\n",
            " [34 '6.5']\n",
            " [35 '4.5']\n",
            " [36 '7']\n",
            " [37 '7.5']]\n"
          ],
          "name": "stdout"
        }
      ]
    },
    {
      "cell_type": "code",
      "metadata": {
        "colab": {
          "base_uri": "https://localhost:8080/",
          "height": 237
        },
        "id": "r1phJWkOnwU2",
        "outputId": "e6c59216-b2c1-417f-b370-d25495c2ca6f"
      },
      "source": [
        "# Lấy ra user_id của học sinh\n",
        "x_temp = X.T\n",
        "arr_id = list(set(x_temp[0]))\n",
        "print('Show id users:\\n',arr_id)\n",
        "print('Tổng số id user:\\n',len(arr_id))\n",
        "\n",
        "# Cleaner code"
      ],
      "execution_count": null,
      "outputs": [
        {
          "output_type": "error",
          "ename": "NameError",
          "evalue": "ignored",
          "traceback": [
            "\u001b[0;31m---------------------------------------------------------------------------\u001b[0m",
            "\u001b[0;31mNameError\u001b[0m                                 Traceback (most recent call last)",
            "\u001b[0;32m<ipython-input-1-3d70e5c15804>\u001b[0m in \u001b[0;36m<module>\u001b[0;34m()\u001b[0m\n\u001b[1;32m      1\u001b[0m \u001b[0;31m# Lấy ra user_id của học sinh\u001b[0m\u001b[0;34m\u001b[0m\u001b[0;34m\u001b[0m\u001b[0;34m\u001b[0m\u001b[0m\n\u001b[0;32m----> 2\u001b[0;31m \u001b[0mx_temp\u001b[0m \u001b[0;34m=\u001b[0m \u001b[0mX\u001b[0m\u001b[0;34m.\u001b[0m\u001b[0mT\u001b[0m\u001b[0;34m\u001b[0m\u001b[0;34m\u001b[0m\u001b[0m\n\u001b[0m\u001b[1;32m      3\u001b[0m \u001b[0marr_id\u001b[0m \u001b[0;34m=\u001b[0m \u001b[0mlist\u001b[0m\u001b[0;34m(\u001b[0m\u001b[0mset\u001b[0m\u001b[0;34m(\u001b[0m\u001b[0mx_temp\u001b[0m\u001b[0;34m[\u001b[0m\u001b[0;36m0\u001b[0m\u001b[0;34m]\u001b[0m\u001b[0;34m)\u001b[0m\u001b[0;34m)\u001b[0m\u001b[0;34m\u001b[0m\u001b[0;34m\u001b[0m\u001b[0m\n\u001b[1;32m      4\u001b[0m \u001b[0mprint\u001b[0m\u001b[0;34m(\u001b[0m\u001b[0;34m'Show id users:\\n'\u001b[0m\u001b[0;34m,\u001b[0m\u001b[0marr_id\u001b[0m\u001b[0;34m)\u001b[0m\u001b[0;34m\u001b[0m\u001b[0;34m\u001b[0m\u001b[0m\n\u001b[1;32m      5\u001b[0m \u001b[0mprint\u001b[0m\u001b[0;34m(\u001b[0m\u001b[0;34m'Tổng số id user:\\n'\u001b[0m\u001b[0;34m,\u001b[0m\u001b[0mlen\u001b[0m\u001b[0;34m(\u001b[0m\u001b[0marr_id\u001b[0m\u001b[0;34m)\u001b[0m\u001b[0;34m)\u001b[0m\u001b[0;34m\u001b[0m\u001b[0;34m\u001b[0m\u001b[0m\n",
            "\u001b[0;31mNameError\u001b[0m: name 'X' is not defined"
          ]
        }
      ]
    },
    {
      "cell_type": "code",
      "metadata": {
        "id": "Yyc_7l7IA7f9"
      },
      "source": [
        "# Lấy ra dự liệu hoạt động của từng học sinh\n",
        "arr_students = []\n",
        "for i in range(len(arr_id)):\n",
        "  arr_student = []\n",
        "  for j in range(len(X)):\n",
        "    if X[j][0] == arr_id[i]:\n",
        "      arr_student.append(X[j])\n",
        "  arr_students.append(arr_student)"
      ],
      "execution_count": null,
      "outputs": []
    },
    {
      "cell_type": "code",
      "metadata": {
        "colab": {
          "base_uri": "https://localhost:8080/"
        },
        "id": "pzRljsKVD0YQ",
        "outputId": "a2a1fda4-90c8-44df-d38a-1267e9f0f49c"
      },
      "source": [
        "# In ra dữ liệu của một id user\n",
        "print(np.array(arr_students[1]))"
      ],
      "execution_count": null,
      "outputs": [
        {
          "output_type": "stream",
          "text": [
            "[[4 3 10000 1 'SCORE']\n",
            " [4 4 10000 1 'SCORE']\n",
            " [4 5 0 0 'Compilation Error']\n",
            " [4 5 0 0 'Compilation Error']\n",
            " [4 5 0 0 'Compilation Error']\n",
            " [4 5 0 0 'Compilation Error']\n",
            " [4 6 10000 1 'SCORE']\n",
            " [4 7 10000 1 'SCORE']\n",
            " [4 8 10000 1 'SCORE']\n",
            " [4 9 10000 1 'SCORE']\n",
            " [4 5 10000 1 'SCORE']\n",
            " [4 81 0 1 'SCORE']\n",
            " [4 101 10000 1 'SCORE']\n",
            " [4 101 10000 0 'SCORE']\n",
            " [4 104 10000 1 'SCORE']\n",
            " [4 106 10000 1 'SCORE']\n",
            " [4 107 10000 1 'SCORE']\n",
            " [4 108 10000 1 'SCORE']\n",
            " [4 109 10000 1 'SCORE']\n",
            " [4 110 10000 1 'SCORE']\n",
            " [4 111 10000 1 'SCORE']\n",
            " [4 111 10000 0 'SCORE']\n",
            " [4 112 10000 0 'SCORE']\n",
            " [4 117 10000 1 'SCORE']\n",
            " [4 118 0 0 'Compilation Error']\n",
            " [4 118 10000 1 'SCORE']\n",
            " [4 119 10000 1 'SCORE']\n",
            " [4 121 10000 1 'SCORE']\n",
            " [4 123 10000 1 'SCORE']\n",
            " [4 131 10000 1 'SCORE']\n",
            " [4 132 10000 1 'SCORE']\n",
            " [4 133 10000 1 'SCORE']\n",
            " [4 134 10000 0 'SCORE']\n",
            " [4 135 10000 1 'SCORE']\n",
            " [4 136 10000 1 'SCORE']\n",
            " [4 137 10000 1 'SCORE']\n",
            " [4 138 10000 1 'SCORE']\n",
            " [4 139 10000 1 'SCORE']\n",
            " [4 140 10000 0 'SCORE']\n",
            " [4 141 9000 0 'SCORE']\n",
            " [4 141 10000 1 'SCORE']\n",
            " [4 142 0 0 'Compilation Error']\n",
            " [4 142 10000 1 'SCORE']\n",
            " [4 143 10000 0 'SCORE']\n",
            " [4 143 10000 1 'SCORE']\n",
            " [4 154 10000 1 'SCORE']\n",
            " [4 155 10000 1 'SCORE']\n",
            " [4 156 10000 1 'SCORE']\n",
            " [4 634 8000 0 'SCORE']\n",
            " [4 634 9000 0 'SCORE']\n",
            " [4 634 10000 1 'SCORE']\n",
            " [4 634 10000 0 'SCORE']\n",
            " [4 635 10000 1 'SCORE']\n",
            " [4 636 10000 1 'SCORE']]\n"
          ],
          "name": "stdout"
        }
      ]
    },
    {
      "cell_type": "markdown",
      "metadata": {
        "id": "Vl7S7YiSbuYn"
      },
      "source": [
        "**4.2.2. CÁC ĐẶC TRƯNG CẦN LẤY Ở BỘ DỮ LIỆU CỦA TỪNG HỌC SINH:**\n",
        "  - Số bài hoàn thành.\n",
        "  - Số bài nộp trung bình trên mỗi bài làm.\n",
        "  - Tổng số problem đã solved (is_final = 1 && pre_score=10000) / Tổng số problem có submit.\n",
        "  - Số lần Compilation Error.\n",
        "  - Tổng số điểm\n"
      ]
    },
    {
      "cell_type": "code",
      "metadata": {
        "id": "M8mF5RtZFE24"
      },
      "source": [
        "# CÁC ĐẶC TRƯNG CẦN LẤY Ở BỘ DỮ LIỆU CỦA TỪNG HỌC SINH:\n",
        "def features(arr_student):\n",
        "  # Tổng số tasks hoàn thành\n",
        "  sum_tasks = 0\n",
        "\n",
        "  # Tổng số bài final submissions\n",
        "  sum_final_submissions = 0\n",
        "\n",
        "  # Tổng số problem đã solved (is_final = 1 && pre_score=10000) / Tổng số problem có submit\n",
        "  arr_student_temp = np.array(arr_student).T  \n",
        "  sum_problems_have_submit = len(list(set(arr_student_temp[1])))\n",
        "  print(sum_problems_have_submit)\n",
        "\n",
        "  # Tổng số compilation error\n",
        "  sum_compilation_error = 0\n",
        "\n",
        "  # Tổng số score\n",
        "  sum_score = 0\n",
        "\n",
        "  for i in range(len(arr_student)):\n",
        "    # Lấy số bài hoàn thành của từng học sinh:\n",
        "    if arr_student[i][2] == 10000 and arr_student[i][3] == 1:\n",
        "      sum_tasks += 1\n",
        "\n",
        "    # Lấy số bài nộp trung bình trên mỗi bài làm:\n",
        "    if arr_student[i][3] == 1:\n",
        "      sum_final_submissions += 1\n",
        "\n",
        "    # Lấy tổng số lần Compilation Error\n",
        "    if arr_student[i][4] == 'Compilation Error':\n",
        "      sum_compilation_error += 1\n",
        "\n",
        "    # Lấy tổng số điểm của từng học sinh:\n",
        "    if arr_student[i][3] == 1:\n",
        "      sum_score += arr_student[i][2]\n",
        "  \n",
        "  # Tổng số problem đã solved (is_final = 1 && pre_score=10000) / Tổng số problem có submit\n",
        "  if sum_problems_have_submit == 0:\n",
        "    avg_solved_problem_per_sum_problems_have_submit = 0\n",
        "  else:\n",
        "    avg_solved_problem_per_sum_problems_have_submit = round(sum_tasks / sum_problems_have_submit, 4)\n",
        "\n",
        "  if sum_final_submissions == 0:\n",
        "    avg_submissions = 0\n",
        "  else:\n",
        "    avg_submissions = round(len(arr_student) / sum_final_submissions, 4)\n",
        "\n",
        "  return sum_tasks, avg_submissions, avg_solved_problem_per_sum_problems_have_submit, sum_compilation_error, sum_score"
      ],
      "execution_count": null,
      "outputs": []
    },
    {
      "cell_type": "code",
      "metadata": {
        "id": "nlnpt8vLnb79"
      },
      "source": [
        "# Lấy dữ liệu X (training and testing)\n",
        "arr_temp_datasets = list()\n",
        "for i in range(len(arr_students)):\n",
        "  sum_tasks, avg_submissions, avg_solved_problem_per_sum_problems_have_submit, sum_compilation_error, sum_score = features(np.array(arr_students[i]))\n",
        "  arr_temp = [arr_id[i], sum_tasks, avg_solved_problem_per_sum_problems_have_submit, avg_submissions, sum_compilation_error, sum_score]\n",
        "  arr_temp_datasets.append(arr_temp)"
      ],
      "execution_count": null,
      "outputs": []
    },
    {
      "cell_type": "code",
      "metadata": {
        "colab": {
          "base_uri": "https://localhost:8080/"
        },
        "id": "G1XKlMyqtNmW",
        "outputId": "4b7ab286-88e3-458a-c4b5-f3aa843fd553"
      },
      "source": [
        "# In ra bộ dataset tạm thời\n",
        "print(arr_temp_datasets[0:10])"
      ],
      "execution_count": null,
      "outputs": [
        {
          "output_type": "stream",
          "text": [
            "[[1, 1, 0.5, 1.0, 1, 10000], [4, 37, 0.9024, 1.4211, 6, 370000], [5, 3, 0.6, 1.2, 2, 30000], [6, 85, 0.9659, 1.4773, 25, 850000], [7, 0, 0.0, 2.5, 0, 9209], [11, 9, 0.5, 4.1667, 7, 100316], [14, 6, 0.8571, 3.1429, 2, 68000], [15, 45, 0.9, 1.9423, 25, 458666], [20, 12, 1.0, 1.0833, 1, 120000], [24, 72, 0.9231, 2.1299, 33, 750299]]\n"
          ],
          "name": "stdout"
        }
      ]
    },
    {
      "cell_type": "markdown",
      "metadata": {
        "id": "yyJtgFo-sQQX"
      },
      "source": [
        "**4.2.3. Lưu dataset cần training vào file csv**"
      ]
    },
    {
      "cell_type": "code",
      "metadata": {
        "id": "pS6A40itx3gm"
      },
      "source": [
        "# Lưu dataset X vào csv\n",
        "from pandas import DataFrame\n",
        "arr_temp = np.array(arr_temp_datasets).T\n",
        "data_temp = {\n",
        "    'user_id':arr_temp[0],\n",
        "    'sum_tasks':arr_temp[1],\n",
        "    'avg_submissions':arr_temp[2],\n",
        "    'avg_solved_problem_per_sum_problems_have_submit':arr_temp[3],\n",
        "    'sum_compilation_error':arr_temp[4],\n",
        "    'sum_score':arr_temp[5]\n",
        "}\n",
        "df = DataFrame(data_temp, columns= ['user_id', 'sum_tasks', 'avg_submissions', 'avg_solved_problem_per_sum_problems_have_submit', 'sum_compilation_error', 'sum_score'])\n",
        "export_csv = df.to_csv (r'/content/drive/MyDrive/Colab Notebooks/Predict_the_final_score_of_students_IT001/data_0.csv', index = None, header=True)"
      ],
      "execution_count": null,
      "outputs": []
    },
    {
      "cell_type": "code",
      "metadata": {
        "colab": {
          "base_uri": "https://localhost:8080/",
          "height": 343
        },
        "id": "p324BzTTIymm",
        "outputId": "f3f873a6-9a18-4cd2-9882-b6c56fcef770"
      },
      "source": [
        "df.head(10)"
      ],
      "execution_count": null,
      "outputs": [
        {
          "output_type": "execute_result",
          "data": {
            "text/html": [
              "<div>\n",
              "<style scoped>\n",
              "    .dataframe tbody tr th:only-of-type {\n",
              "        vertical-align: middle;\n",
              "    }\n",
              "\n",
              "    .dataframe tbody tr th {\n",
              "        vertical-align: top;\n",
              "    }\n",
              "\n",
              "    .dataframe thead th {\n",
              "        text-align: right;\n",
              "    }\n",
              "</style>\n",
              "<table border=\"1\" class=\"dataframe\">\n",
              "  <thead>\n",
              "    <tr style=\"text-align: right;\">\n",
              "      <th></th>\n",
              "      <th>user_id</th>\n",
              "      <th>sum_tasks</th>\n",
              "      <th>avg_submissions</th>\n",
              "      <th>avg_solved_problem_per_sum_problems_have_submit</th>\n",
              "      <th>sum_compilation_error</th>\n",
              "      <th>sum_score</th>\n",
              "    </tr>\n",
              "  </thead>\n",
              "  <tbody>\n",
              "    <tr>\n",
              "      <th>0</th>\n",
              "      <td>1.0</td>\n",
              "      <td>1.0</td>\n",
              "      <td>0.5000</td>\n",
              "      <td>1.0000</td>\n",
              "      <td>1.0</td>\n",
              "      <td>10000.0</td>\n",
              "    </tr>\n",
              "    <tr>\n",
              "      <th>1</th>\n",
              "      <td>4.0</td>\n",
              "      <td>37.0</td>\n",
              "      <td>0.9024</td>\n",
              "      <td>1.4211</td>\n",
              "      <td>6.0</td>\n",
              "      <td>370000.0</td>\n",
              "    </tr>\n",
              "    <tr>\n",
              "      <th>2</th>\n",
              "      <td>5.0</td>\n",
              "      <td>3.0</td>\n",
              "      <td>0.6000</td>\n",
              "      <td>1.2000</td>\n",
              "      <td>2.0</td>\n",
              "      <td>30000.0</td>\n",
              "    </tr>\n",
              "    <tr>\n",
              "      <th>3</th>\n",
              "      <td>6.0</td>\n",
              "      <td>85.0</td>\n",
              "      <td>0.9659</td>\n",
              "      <td>1.4773</td>\n",
              "      <td>25.0</td>\n",
              "      <td>850000.0</td>\n",
              "    </tr>\n",
              "    <tr>\n",
              "      <th>4</th>\n",
              "      <td>7.0</td>\n",
              "      <td>0.0</td>\n",
              "      <td>0.0000</td>\n",
              "      <td>2.5000</td>\n",
              "      <td>0.0</td>\n",
              "      <td>9209.0</td>\n",
              "    </tr>\n",
              "    <tr>\n",
              "      <th>5</th>\n",
              "      <td>11.0</td>\n",
              "      <td>9.0</td>\n",
              "      <td>0.5000</td>\n",
              "      <td>4.1667</td>\n",
              "      <td>7.0</td>\n",
              "      <td>100316.0</td>\n",
              "    </tr>\n",
              "    <tr>\n",
              "      <th>6</th>\n",
              "      <td>14.0</td>\n",
              "      <td>6.0</td>\n",
              "      <td>0.8571</td>\n",
              "      <td>3.1429</td>\n",
              "      <td>2.0</td>\n",
              "      <td>68000.0</td>\n",
              "    </tr>\n",
              "    <tr>\n",
              "      <th>7</th>\n",
              "      <td>15.0</td>\n",
              "      <td>45.0</td>\n",
              "      <td>0.9000</td>\n",
              "      <td>1.9423</td>\n",
              "      <td>25.0</td>\n",
              "      <td>458666.0</td>\n",
              "    </tr>\n",
              "    <tr>\n",
              "      <th>8</th>\n",
              "      <td>20.0</td>\n",
              "      <td>12.0</td>\n",
              "      <td>1.0000</td>\n",
              "      <td>1.0833</td>\n",
              "      <td>1.0</td>\n",
              "      <td>120000.0</td>\n",
              "    </tr>\n",
              "    <tr>\n",
              "      <th>9</th>\n",
              "      <td>24.0</td>\n",
              "      <td>72.0</td>\n",
              "      <td>0.9231</td>\n",
              "      <td>2.1299</td>\n",
              "      <td>33.0</td>\n",
              "      <td>750299.0</td>\n",
              "    </tr>\n",
              "  </tbody>\n",
              "</table>\n",
              "</div>"
            ],
            "text/plain": [
              "   user_id  sum_tasks  ...  sum_compilation_error  sum_score\n",
              "0      1.0        1.0  ...                    1.0    10000.0\n",
              "1      4.0       37.0  ...                    6.0   370000.0\n",
              "2      5.0        3.0  ...                    2.0    30000.0\n",
              "3      6.0       85.0  ...                   25.0   850000.0\n",
              "4      7.0        0.0  ...                    0.0     9209.0\n",
              "5     11.0        9.0  ...                    7.0   100316.0\n",
              "6     14.0        6.0  ...                    2.0    68000.0\n",
              "7     15.0       45.0  ...                   25.0   458666.0\n",
              "8     20.0       12.0  ...                    1.0   120000.0\n",
              "9     24.0       72.0  ...                   33.0   750299.0\n",
              "\n",
              "[10 rows x 6 columns]"
            ]
          },
          "metadata": {
            "tags": []
          },
          "execution_count": 16
        }
      ]
    },
    {
      "cell_type": "markdown",
      "metadata": {
        "id": "BbPUmWKm-BYE"
      },
      "source": [
        "**4.2.4. Chia bộ data tạm thời thành bộ data training và bộ testing**"
      ]
    },
    {
      "cell_type": "code",
      "metadata": {
        "id": "nnT5xkLy_41E"
      },
      "source": [
        "# Lấy dự liệu từ file data_0.csv\n",
        "import pandas as pd\n",
        "import numpy as np\n",
        "df_X = pd.read_csv('/content/drive/MyDrive/Colab Notebooks/Predict_the_final_score_of_students_IT001/data_0.csv')"
      ],
      "execution_count": null,
      "outputs": []
    },
    {
      "cell_type": "code",
      "metadata": {
        "colab": {
          "base_uri": "https://localhost:8080/",
          "height": 343
        },
        "id": "JP2bG2kRDlkq",
        "outputId": "09ff435a-e55d-4227-d22e-bb38a870778d"
      },
      "source": [
        "df_X.head(10)"
      ],
      "execution_count": null,
      "outputs": [
        {
          "output_type": "execute_result",
          "data": {
            "text/html": [
              "<div>\n",
              "<style scoped>\n",
              "    .dataframe tbody tr th:only-of-type {\n",
              "        vertical-align: middle;\n",
              "    }\n",
              "\n",
              "    .dataframe tbody tr th {\n",
              "        vertical-align: top;\n",
              "    }\n",
              "\n",
              "    .dataframe thead th {\n",
              "        text-align: right;\n",
              "    }\n",
              "</style>\n",
              "<table border=\"1\" class=\"dataframe\">\n",
              "  <thead>\n",
              "    <tr style=\"text-align: right;\">\n",
              "      <th></th>\n",
              "      <th>user_id</th>\n",
              "      <th>sum_tasks</th>\n",
              "      <th>avg_submissions</th>\n",
              "      <th>avg_solved_problem_per_sum_problems_have_submit</th>\n",
              "      <th>sum_compilation_error</th>\n",
              "      <th>sum_score</th>\n",
              "    </tr>\n",
              "  </thead>\n",
              "  <tbody>\n",
              "    <tr>\n",
              "      <th>0</th>\n",
              "      <td>1.0</td>\n",
              "      <td>1.0</td>\n",
              "      <td>0.5000</td>\n",
              "      <td>1.0000</td>\n",
              "      <td>1.0</td>\n",
              "      <td>10000.0</td>\n",
              "    </tr>\n",
              "    <tr>\n",
              "      <th>1</th>\n",
              "      <td>4.0</td>\n",
              "      <td>37.0</td>\n",
              "      <td>0.9024</td>\n",
              "      <td>1.4211</td>\n",
              "      <td>6.0</td>\n",
              "      <td>370000.0</td>\n",
              "    </tr>\n",
              "    <tr>\n",
              "      <th>2</th>\n",
              "      <td>5.0</td>\n",
              "      <td>3.0</td>\n",
              "      <td>0.6000</td>\n",
              "      <td>1.2000</td>\n",
              "      <td>2.0</td>\n",
              "      <td>30000.0</td>\n",
              "    </tr>\n",
              "    <tr>\n",
              "      <th>3</th>\n",
              "      <td>6.0</td>\n",
              "      <td>85.0</td>\n",
              "      <td>0.9659</td>\n",
              "      <td>1.4773</td>\n",
              "      <td>25.0</td>\n",
              "      <td>850000.0</td>\n",
              "    </tr>\n",
              "    <tr>\n",
              "      <th>4</th>\n",
              "      <td>7.0</td>\n",
              "      <td>0.0</td>\n",
              "      <td>0.0000</td>\n",
              "      <td>2.5000</td>\n",
              "      <td>0.0</td>\n",
              "      <td>9209.0</td>\n",
              "    </tr>\n",
              "    <tr>\n",
              "      <th>5</th>\n",
              "      <td>11.0</td>\n",
              "      <td>9.0</td>\n",
              "      <td>0.5000</td>\n",
              "      <td>4.1667</td>\n",
              "      <td>7.0</td>\n",
              "      <td>100316.0</td>\n",
              "    </tr>\n",
              "    <tr>\n",
              "      <th>6</th>\n",
              "      <td>14.0</td>\n",
              "      <td>6.0</td>\n",
              "      <td>0.8571</td>\n",
              "      <td>3.1429</td>\n",
              "      <td>2.0</td>\n",
              "      <td>68000.0</td>\n",
              "    </tr>\n",
              "    <tr>\n",
              "      <th>7</th>\n",
              "      <td>15.0</td>\n",
              "      <td>45.0</td>\n",
              "      <td>0.9000</td>\n",
              "      <td>1.9423</td>\n",
              "      <td>25.0</td>\n",
              "      <td>458666.0</td>\n",
              "    </tr>\n",
              "    <tr>\n",
              "      <th>8</th>\n",
              "      <td>20.0</td>\n",
              "      <td>12.0</td>\n",
              "      <td>1.0000</td>\n",
              "      <td>1.0833</td>\n",
              "      <td>1.0</td>\n",
              "      <td>120000.0</td>\n",
              "    </tr>\n",
              "    <tr>\n",
              "      <th>9</th>\n",
              "      <td>24.0</td>\n",
              "      <td>72.0</td>\n",
              "      <td>0.9231</td>\n",
              "      <td>2.1299</td>\n",
              "      <td>33.0</td>\n",
              "      <td>750299.0</td>\n",
              "    </tr>\n",
              "  </tbody>\n",
              "</table>\n",
              "</div>"
            ],
            "text/plain": [
              "   user_id  sum_tasks  ...  sum_compilation_error  sum_score\n",
              "0      1.0        1.0  ...                    1.0    10000.0\n",
              "1      4.0       37.0  ...                    6.0   370000.0\n",
              "2      5.0        3.0  ...                    2.0    30000.0\n",
              "3      6.0       85.0  ...                   25.0   850000.0\n",
              "4      7.0        0.0  ...                    0.0     9209.0\n",
              "5     11.0        9.0  ...                    7.0   100316.0\n",
              "6     14.0        6.0  ...                    2.0    68000.0\n",
              "7     15.0       45.0  ...                   25.0   458666.0\n",
              "8     20.0       12.0  ...                    1.0   120000.0\n",
              "9     24.0       72.0  ...                   33.0   750299.0\n",
              "\n",
              "[10 rows x 6 columns]"
            ]
          },
          "metadata": {
            "tags": []
          },
          "execution_count": 18
        }
      ]
    },
    {
      "cell_type": "code",
      "metadata": {
        "colab": {
          "base_uri": "https://localhost:8080/"
        },
        "id": "FhTUOyBRHUCH",
        "outputId": "b67089b0-613f-4479-dc82-f5444878bbe2"
      },
      "source": [
        "input_X = np.array([df_X['user_id'],df_X['sum_tasks'], df_X['avg_solved_problem_per_sum_problems_have_submit'],df_X['avg_submissions'],df_X['sum_compilation_error'],df_X['sum_score']]).T\n",
        "print(input_X[0:10])"
      ],
      "execution_count": null,
      "outputs": [
        {
          "output_type": "stream",
          "text": [
            "[[1.00000e+00 1.00000e+00 1.00000e+00 5.00000e-01 1.00000e+00 1.00000e+04]\n",
            " [4.00000e+00 3.70000e+01 1.42110e+00 9.02400e-01 6.00000e+00 3.70000e+05]\n",
            " [5.00000e+00 3.00000e+00 1.20000e+00 6.00000e-01 2.00000e+00 3.00000e+04]\n",
            " [6.00000e+00 8.50000e+01 1.47730e+00 9.65900e-01 2.50000e+01 8.50000e+05]\n",
            " [7.00000e+00 0.00000e+00 2.50000e+00 0.00000e+00 0.00000e+00 9.20900e+03]\n",
            " [1.10000e+01 9.00000e+00 4.16670e+00 5.00000e-01 7.00000e+00 1.00316e+05]\n",
            " [1.40000e+01 6.00000e+00 3.14290e+00 8.57100e-01 2.00000e+00 6.80000e+04]\n",
            " [1.50000e+01 4.50000e+01 1.94230e+00 9.00000e-01 2.50000e+01 4.58666e+05]\n",
            " [2.00000e+01 1.20000e+01 1.08330e+00 1.00000e+00 1.00000e+00 1.20000e+05]\n",
            " [2.40000e+01 7.20000e+01 2.12990e+00 9.23100e-01 3.30000e+01 7.50299e+05]]\n"
          ],
          "name": "stdout"
        }
      ]
    },
    {
      "cell_type": "code",
      "metadata": {
        "colab": {
          "base_uri": "https://localhost:8080/"
        },
        "id": "Y7LICjgkCufs",
        "outputId": "449bf790-a532-42f6-aefc-a95e824eb39b"
      },
      "source": [
        "print('y_training: \\n',y_train[0:10])\n",
        "y_train = list(y_train)\n",
        "n = len(y_train)\n",
        "i = 0\n",
        "while(n != i):\n",
        "  if y_train[i][1] == '\\xa0' or y_train[i][0] == 51:\n",
        "    y_train.pop(i)\n",
        "    n -= 1\n",
        "  else:\n",
        "    i += 1 "
      ],
      "execution_count": null,
      "outputs": [
        {
          "output_type": "stream",
          "text": [
            "y_training: \n",
            " [[22 '8.5']\n",
            " [24 '9.5']\n",
            " [27 '10']\n",
            " [28 '9.5']\n",
            " [29 '8.5']\n",
            " [30 '9']\n",
            " [34 '6.5']\n",
            " [35 '4.5']\n",
            " [36 '7']\n",
            " [37 '7.5']]\n"
          ],
          "name": "stdout"
        }
      ]
    },
    {
      "cell_type": "code",
      "metadata": {
        "id": "sBTpldoy-Y8a"
      },
      "source": [
        "\n",
        "X_training = []\n",
        "X_testing = []\n",
        "temp_X = list(input_X)\n",
        "for i in range(len(y_train)):\n",
        "  while(len(temp_X)!=0):\n",
        "    j = 0\n",
        "    if int(y_train[i][0]) == int(temp_X[j][0]):\n",
        "      temp = list(temp_X[j])\n",
        "      temp.extend([y_train[i][1]])\n",
        "      X_training.append(temp)\n",
        "      temp_X.pop(j)\n",
        "      break\n",
        "    elif int(y_train[i][0]) < int(temp_X[j][0]):\n",
        "      break\n",
        "    else:\n",
        "      X_testing.append(temp_X[j])\n",
        "      temp_X.pop(j)"
      ],
      "execution_count": null,
      "outputs": []
    },
    {
      "cell_type": "code",
      "metadata": {
        "colab": {
          "base_uri": "https://localhost:8080/"
        },
        "id": "mJwraMuHERQj",
        "outputId": "580ff36b-8642-419e-d7ed-430fc14fe30b"
      },
      "source": [
        "# In ra dự liêu training và dữ liệu predict\n",
        "print('X_training:\\n',np.array(X_training[0:10]))\n",
        "print('X_testing:\\n',np.array(X_testing[0:10]))"
      ],
      "execution_count": null,
      "outputs": [
        {
          "output_type": "stream",
          "text": [
            "X_training:\n",
            " [['24.0' '72.0' '2.1299' '0.9231' '33.0' '750299.0' '9.5']\n",
            " ['27.0' '3.0' '2.6' '0.6' '0.0' '39000.0' '10']\n",
            " ['29.0' '72.0' '2.4875' '0.9' '28.0' '762760.0' '8.5']\n",
            " ['34.0' '81.0' '2.5952' '0.9643' '16.0' '822888.0' '6.5']\n",
            " ['35.0' '145.0' '1.9669' '0.9864' '51.0' '1477000.0' '4.5']\n",
            " ['37.0' '93.0' '3.0588' '0.9118' '62.0' '979712.0' '7.5']\n",
            " ['40.0' '207.0' '3.0884' '1.0838' '112.0' '2111388.0' '8']\n",
            " ['41.0' '61.0' '1.5493' '0.8592' '5.0' '636888.0' '8']\n",
            " ['42.0' '191.0' '1.6701' '1.0552' '34.0' '1925142.0' '7.5']\n",
            " ['43.0' '148.0' '2.8176' '1.5102' '118.0' '1541357.0' '6']]\n",
            "X_testing:\n",
            " [[1.00000e+00 1.00000e+00 1.00000e+00 5.00000e-01 1.00000e+00 1.00000e+04]\n",
            " [4.00000e+00 3.70000e+01 1.42110e+00 9.02400e-01 6.00000e+00 3.70000e+05]\n",
            " [5.00000e+00 3.00000e+00 1.20000e+00 6.00000e-01 2.00000e+00 3.00000e+04]\n",
            " [6.00000e+00 8.50000e+01 1.47730e+00 9.65900e-01 2.50000e+01 8.50000e+05]\n",
            " [7.00000e+00 0.00000e+00 2.50000e+00 0.00000e+00 0.00000e+00 9.20900e+03]\n",
            " [1.10000e+01 9.00000e+00 4.16670e+00 5.00000e-01 7.00000e+00 1.00316e+05]\n",
            " [1.40000e+01 6.00000e+00 3.14290e+00 8.57100e-01 2.00000e+00 6.80000e+04]\n",
            " [1.50000e+01 4.50000e+01 1.94230e+00 9.00000e-01 2.50000e+01 4.58666e+05]\n",
            " [2.00000e+01 1.20000e+01 1.08330e+00 1.00000e+00 1.00000e+00 1.20000e+05]\n",
            " [3.10000e+01 3.00000e+00 4.33330e+00 1.00000e+00 0.00000e+00 3.00000e+04]]\n"
          ],
          "name": "stdout"
        }
      ]
    },
    {
      "cell_type": "code",
      "metadata": {
        "id": "WGzK7jK-UxjS"
      },
      "source": [
        "# Lưu dataset training sets vào csv\n",
        "from pandas import DataFrame\n",
        "arr_temp = np.array(X_training).T\n",
        "data_training_set = {\n",
        "    'user_id':arr_temp[0],\n",
        "    'sum_tasks':arr_temp[1],\n",
        "    'avg_submissions':arr_temp[2],\n",
        "    'avg_solved_problem_per_sum_problems_have_submit':arr_temp[3],\n",
        "    'sum_compilation_error':arr_temp[4],\n",
        "    'sum_score':arr_temp[5],\n",
        "    'CK_score':arr_temp[6]\n",
        "}\n",
        "df = DataFrame(data_training_set, columns= ['user_id', 'sum_tasks', 'avg_solved_problem_per_sum_problems_have_submit', 'avg_submissions', 'sum_compilation_error', 'sum_score', 'CK_score'])\n",
        "export_csv = df.to_csv (r'/content/drive/MyDrive/Colab Notebooks/Predict_the_final_score_of_students_IT001/data_training.csv', index = None, header=True)"
      ],
      "execution_count": null,
      "outputs": []
    },
    {
      "cell_type": "code",
      "metadata": {
        "colab": {
          "base_uri": "https://localhost:8080/",
          "height": 343
        },
        "id": "1Ue2LvLMIjIX",
        "outputId": "fcbc9b96-9568-4476-f038-539e230a98d8"
      },
      "source": [
        "df.head(10)"
      ],
      "execution_count": null,
      "outputs": [
        {
          "output_type": "execute_result",
          "data": {
            "text/html": [
              "<div>\n",
              "<style scoped>\n",
              "    .dataframe tbody tr th:only-of-type {\n",
              "        vertical-align: middle;\n",
              "    }\n",
              "\n",
              "    .dataframe tbody tr th {\n",
              "        vertical-align: top;\n",
              "    }\n",
              "\n",
              "    .dataframe thead th {\n",
              "        text-align: right;\n",
              "    }\n",
              "</style>\n",
              "<table border=\"1\" class=\"dataframe\">\n",
              "  <thead>\n",
              "    <tr style=\"text-align: right;\">\n",
              "      <th></th>\n",
              "      <th>user_id</th>\n",
              "      <th>sum_tasks</th>\n",
              "      <th>avg_solved_problem_per_sum_problems_have_submit</th>\n",
              "      <th>avg_submissions</th>\n",
              "      <th>sum_compilation_error</th>\n",
              "      <th>sum_score</th>\n",
              "      <th>CK_score</th>\n",
              "    </tr>\n",
              "  </thead>\n",
              "  <tbody>\n",
              "    <tr>\n",
              "      <th>0</th>\n",
              "      <td>24.0</td>\n",
              "      <td>72.0</td>\n",
              "      <td>0.9231</td>\n",
              "      <td>2.1299</td>\n",
              "      <td>33.0</td>\n",
              "      <td>750299.0</td>\n",
              "      <td>9.5</td>\n",
              "    </tr>\n",
              "    <tr>\n",
              "      <th>1</th>\n",
              "      <td>27.0</td>\n",
              "      <td>3.0</td>\n",
              "      <td>0.6</td>\n",
              "      <td>2.6</td>\n",
              "      <td>0.0</td>\n",
              "      <td>39000.0</td>\n",
              "      <td>10</td>\n",
              "    </tr>\n",
              "    <tr>\n",
              "      <th>2</th>\n",
              "      <td>29.0</td>\n",
              "      <td>72.0</td>\n",
              "      <td>0.9</td>\n",
              "      <td>2.4875</td>\n",
              "      <td>28.0</td>\n",
              "      <td>762760.0</td>\n",
              "      <td>8.5</td>\n",
              "    </tr>\n",
              "    <tr>\n",
              "      <th>3</th>\n",
              "      <td>34.0</td>\n",
              "      <td>81.0</td>\n",
              "      <td>0.9643</td>\n",
              "      <td>2.5952</td>\n",
              "      <td>16.0</td>\n",
              "      <td>822888.0</td>\n",
              "      <td>6.5</td>\n",
              "    </tr>\n",
              "    <tr>\n",
              "      <th>4</th>\n",
              "      <td>35.0</td>\n",
              "      <td>145.0</td>\n",
              "      <td>0.9864</td>\n",
              "      <td>1.9669</td>\n",
              "      <td>51.0</td>\n",
              "      <td>1477000.0</td>\n",
              "      <td>4.5</td>\n",
              "    </tr>\n",
              "    <tr>\n",
              "      <th>5</th>\n",
              "      <td>37.0</td>\n",
              "      <td>93.0</td>\n",
              "      <td>0.9118</td>\n",
              "      <td>3.0588</td>\n",
              "      <td>62.0</td>\n",
              "      <td>979712.0</td>\n",
              "      <td>7.5</td>\n",
              "    </tr>\n",
              "    <tr>\n",
              "      <th>6</th>\n",
              "      <td>40.0</td>\n",
              "      <td>207.0</td>\n",
              "      <td>1.0838</td>\n",
              "      <td>3.0884</td>\n",
              "      <td>112.0</td>\n",
              "      <td>2111388.0</td>\n",
              "      <td>8</td>\n",
              "    </tr>\n",
              "    <tr>\n",
              "      <th>7</th>\n",
              "      <td>41.0</td>\n",
              "      <td>61.0</td>\n",
              "      <td>0.8592</td>\n",
              "      <td>1.5493</td>\n",
              "      <td>5.0</td>\n",
              "      <td>636888.0</td>\n",
              "      <td>8</td>\n",
              "    </tr>\n",
              "    <tr>\n",
              "      <th>8</th>\n",
              "      <td>42.0</td>\n",
              "      <td>191.0</td>\n",
              "      <td>1.0552</td>\n",
              "      <td>1.6701</td>\n",
              "      <td>34.0</td>\n",
              "      <td>1925142.0</td>\n",
              "      <td>7.5</td>\n",
              "    </tr>\n",
              "    <tr>\n",
              "      <th>9</th>\n",
              "      <td>43.0</td>\n",
              "      <td>148.0</td>\n",
              "      <td>1.5102</td>\n",
              "      <td>2.8176</td>\n",
              "      <td>118.0</td>\n",
              "      <td>1541357.0</td>\n",
              "      <td>6</td>\n",
              "    </tr>\n",
              "  </tbody>\n",
              "</table>\n",
              "</div>"
            ],
            "text/plain": [
              "  user_id sum_tasks  ...  sum_score CK_score\n",
              "0    24.0      72.0  ...   750299.0      9.5\n",
              "1    27.0       3.0  ...    39000.0       10\n",
              "2    29.0      72.0  ...   762760.0      8.5\n",
              "3    34.0      81.0  ...   822888.0      6.5\n",
              "4    35.0     145.0  ...  1477000.0      4.5\n",
              "5    37.0      93.0  ...   979712.0      7.5\n",
              "6    40.0     207.0  ...  2111388.0        8\n",
              "7    41.0      61.0  ...   636888.0        8\n",
              "8    42.0     191.0  ...  1925142.0      7.5\n",
              "9    43.0     148.0  ...  1541357.0        6\n",
              "\n",
              "[10 rows x 7 columns]"
            ]
          },
          "metadata": {
            "tags": []
          },
          "execution_count": 24
        }
      ]
    },
    {
      "cell_type": "code",
      "metadata": {
        "id": "bE40RB20Wkcq"
      },
      "source": [
        "# Lưu dataset testing sets vào csv\n",
        "from pandas import DataFrame\n",
        "arr_temp = np.array(X_testing).T\n",
        "data_testing_set = {\n",
        "    'user_id':arr_temp[0],\n",
        "    'sum_tasks':arr_temp[1],\n",
        "    'avg_submissions':arr_temp[2],\n",
        "    'avg_solved_problem_per_sum_problems_have_submit':arr_temp[3],\n",
        "    'sum_compilation_error':arr_temp[4],\n",
        "    'sum_score':arr_temp[5]\n",
        "}\n",
        "df = DataFrame(data_testing_set, columns= ['user_id', 'sum_tasks', 'avg_submissions', 'avg_solved_problem_per_sum_problems_have_submit', 'sum_compilation_error', 'sum_score'])\n",
        "export_csv = df.to_csv (r'/content/drive/MyDrive/Colab Notebooks/Predict_the_final_score_of_students_IT001/data_testing.csv', index = None, header=True)"
      ],
      "execution_count": null,
      "outputs": []
    },
    {
      "cell_type": "code",
      "metadata": {
        "colab": {
          "base_uri": "https://localhost:8080/",
          "height": 343
        },
        "id": "uCTnc94MJK6W",
        "outputId": "935ca7ff-6a40-4b80-9c7c-0425ddf148db"
      },
      "source": [
        "df.head(10)"
      ],
      "execution_count": null,
      "outputs": [
        {
          "output_type": "execute_result",
          "data": {
            "text/html": [
              "<div>\n",
              "<style scoped>\n",
              "    .dataframe tbody tr th:only-of-type {\n",
              "        vertical-align: middle;\n",
              "    }\n",
              "\n",
              "    .dataframe tbody tr th {\n",
              "        vertical-align: top;\n",
              "    }\n",
              "\n",
              "    .dataframe thead th {\n",
              "        text-align: right;\n",
              "    }\n",
              "</style>\n",
              "<table border=\"1\" class=\"dataframe\">\n",
              "  <thead>\n",
              "    <tr style=\"text-align: right;\">\n",
              "      <th></th>\n",
              "      <th>user_id</th>\n",
              "      <th>sum_tasks</th>\n",
              "      <th>avg_submissions</th>\n",
              "      <th>avg_solved_problem_per_sum_problems_have_submit</th>\n",
              "      <th>sum_compilation_error</th>\n",
              "      <th>sum_score</th>\n",
              "    </tr>\n",
              "  </thead>\n",
              "  <tbody>\n",
              "    <tr>\n",
              "      <th>0</th>\n",
              "      <td>1.0</td>\n",
              "      <td>1.0</td>\n",
              "      <td>1.0000</td>\n",
              "      <td>0.5000</td>\n",
              "      <td>1.0</td>\n",
              "      <td>10000.0</td>\n",
              "    </tr>\n",
              "    <tr>\n",
              "      <th>1</th>\n",
              "      <td>4.0</td>\n",
              "      <td>37.0</td>\n",
              "      <td>1.4211</td>\n",
              "      <td>0.9024</td>\n",
              "      <td>6.0</td>\n",
              "      <td>370000.0</td>\n",
              "    </tr>\n",
              "    <tr>\n",
              "      <th>2</th>\n",
              "      <td>5.0</td>\n",
              "      <td>3.0</td>\n",
              "      <td>1.2000</td>\n",
              "      <td>0.6000</td>\n",
              "      <td>2.0</td>\n",
              "      <td>30000.0</td>\n",
              "    </tr>\n",
              "    <tr>\n",
              "      <th>3</th>\n",
              "      <td>6.0</td>\n",
              "      <td>85.0</td>\n",
              "      <td>1.4773</td>\n",
              "      <td>0.9659</td>\n",
              "      <td>25.0</td>\n",
              "      <td>850000.0</td>\n",
              "    </tr>\n",
              "    <tr>\n",
              "      <th>4</th>\n",
              "      <td>7.0</td>\n",
              "      <td>0.0</td>\n",
              "      <td>2.5000</td>\n",
              "      <td>0.0000</td>\n",
              "      <td>0.0</td>\n",
              "      <td>9209.0</td>\n",
              "    </tr>\n",
              "    <tr>\n",
              "      <th>5</th>\n",
              "      <td>11.0</td>\n",
              "      <td>9.0</td>\n",
              "      <td>4.1667</td>\n",
              "      <td>0.5000</td>\n",
              "      <td>7.0</td>\n",
              "      <td>100316.0</td>\n",
              "    </tr>\n",
              "    <tr>\n",
              "      <th>6</th>\n",
              "      <td>14.0</td>\n",
              "      <td>6.0</td>\n",
              "      <td>3.1429</td>\n",
              "      <td>0.8571</td>\n",
              "      <td>2.0</td>\n",
              "      <td>68000.0</td>\n",
              "    </tr>\n",
              "    <tr>\n",
              "      <th>7</th>\n",
              "      <td>15.0</td>\n",
              "      <td>45.0</td>\n",
              "      <td>1.9423</td>\n",
              "      <td>0.9000</td>\n",
              "      <td>25.0</td>\n",
              "      <td>458666.0</td>\n",
              "    </tr>\n",
              "    <tr>\n",
              "      <th>8</th>\n",
              "      <td>20.0</td>\n",
              "      <td>12.0</td>\n",
              "      <td>1.0833</td>\n",
              "      <td>1.0000</td>\n",
              "      <td>1.0</td>\n",
              "      <td>120000.0</td>\n",
              "    </tr>\n",
              "    <tr>\n",
              "      <th>9</th>\n",
              "      <td>31.0</td>\n",
              "      <td>3.0</td>\n",
              "      <td>4.3333</td>\n",
              "      <td>1.0000</td>\n",
              "      <td>0.0</td>\n",
              "      <td>30000.0</td>\n",
              "    </tr>\n",
              "  </tbody>\n",
              "</table>\n",
              "</div>"
            ],
            "text/plain": [
              "   user_id  sum_tasks  ...  sum_compilation_error  sum_score\n",
              "0      1.0        1.0  ...                    1.0    10000.0\n",
              "1      4.0       37.0  ...                    6.0   370000.0\n",
              "2      5.0        3.0  ...                    2.0    30000.0\n",
              "3      6.0       85.0  ...                   25.0   850000.0\n",
              "4      7.0        0.0  ...                    0.0     9209.0\n",
              "5     11.0        9.0  ...                    7.0   100316.0\n",
              "6     14.0        6.0  ...                    2.0    68000.0\n",
              "7     15.0       45.0  ...                   25.0   458666.0\n",
              "8     20.0       12.0  ...                    1.0   120000.0\n",
              "9     31.0        3.0  ...                    0.0    30000.0\n",
              "\n",
              "[10 rows x 6 columns]"
            ]
          },
          "metadata": {
            "tags": []
          },
          "execution_count": 26
        }
      ]
    },
    {
      "cell_type": "code",
      "metadata": {
        "colab": {
          "base_uri": "https://localhost:8080/",
          "height": 343
        },
        "id": "7eRVU86O7p6M",
        "outputId": "40d09618-ffdc-4a94-9aef-57bb143d3965"
      },
      "source": [
        "# Lấy dự liệu từ file data_training.csv\n",
        "import pandas as pd\n",
        "import numpy as np\n",
        "df_training = pd.read_csv('/content/drive/MyDrive/Colab Notebooks/Predict_the_final_score_of_students_IT001/data_training.csv')\n",
        "df_training.head(10)"
      ],
      "execution_count": null,
      "outputs": [
        {
          "output_type": "execute_result",
          "data": {
            "text/html": [
              "<div>\n",
              "<style scoped>\n",
              "    .dataframe tbody tr th:only-of-type {\n",
              "        vertical-align: middle;\n",
              "    }\n",
              "\n",
              "    .dataframe tbody tr th {\n",
              "        vertical-align: top;\n",
              "    }\n",
              "\n",
              "    .dataframe thead th {\n",
              "        text-align: right;\n",
              "    }\n",
              "</style>\n",
              "<table border=\"1\" class=\"dataframe\">\n",
              "  <thead>\n",
              "    <tr style=\"text-align: right;\">\n",
              "      <th></th>\n",
              "      <th>user_id</th>\n",
              "      <th>sum_tasks</th>\n",
              "      <th>avg_solved_problem_per_sum_problems_have_submit</th>\n",
              "      <th>avg_submissions</th>\n",
              "      <th>sum_compilation_error</th>\n",
              "      <th>sum_score</th>\n",
              "      <th>CK_score</th>\n",
              "    </tr>\n",
              "  </thead>\n",
              "  <tbody>\n",
              "    <tr>\n",
              "      <th>0</th>\n",
              "      <td>24.0</td>\n",
              "      <td>72.0</td>\n",
              "      <td>0.9231</td>\n",
              "      <td>2.1299</td>\n",
              "      <td>33.0</td>\n",
              "      <td>750299.0</td>\n",
              "      <td>9.5</td>\n",
              "    </tr>\n",
              "    <tr>\n",
              "      <th>1</th>\n",
              "      <td>27.0</td>\n",
              "      <td>3.0</td>\n",
              "      <td>0.6000</td>\n",
              "      <td>2.6000</td>\n",
              "      <td>0.0</td>\n",
              "      <td>39000.0</td>\n",
              "      <td>10.0</td>\n",
              "    </tr>\n",
              "    <tr>\n",
              "      <th>2</th>\n",
              "      <td>29.0</td>\n",
              "      <td>72.0</td>\n",
              "      <td>0.9000</td>\n",
              "      <td>2.4875</td>\n",
              "      <td>28.0</td>\n",
              "      <td>762760.0</td>\n",
              "      <td>8.5</td>\n",
              "    </tr>\n",
              "    <tr>\n",
              "      <th>3</th>\n",
              "      <td>34.0</td>\n",
              "      <td>81.0</td>\n",
              "      <td>0.9643</td>\n",
              "      <td>2.5952</td>\n",
              "      <td>16.0</td>\n",
              "      <td>822888.0</td>\n",
              "      <td>6.5</td>\n",
              "    </tr>\n",
              "    <tr>\n",
              "      <th>4</th>\n",
              "      <td>35.0</td>\n",
              "      <td>145.0</td>\n",
              "      <td>0.9864</td>\n",
              "      <td>1.9669</td>\n",
              "      <td>51.0</td>\n",
              "      <td>1477000.0</td>\n",
              "      <td>4.5</td>\n",
              "    </tr>\n",
              "    <tr>\n",
              "      <th>5</th>\n",
              "      <td>37.0</td>\n",
              "      <td>93.0</td>\n",
              "      <td>0.9118</td>\n",
              "      <td>3.0588</td>\n",
              "      <td>62.0</td>\n",
              "      <td>979712.0</td>\n",
              "      <td>7.5</td>\n",
              "    </tr>\n",
              "    <tr>\n",
              "      <th>6</th>\n",
              "      <td>40.0</td>\n",
              "      <td>207.0</td>\n",
              "      <td>1.0838</td>\n",
              "      <td>3.0884</td>\n",
              "      <td>112.0</td>\n",
              "      <td>2111388.0</td>\n",
              "      <td>8.0</td>\n",
              "    </tr>\n",
              "    <tr>\n",
              "      <th>7</th>\n",
              "      <td>41.0</td>\n",
              "      <td>61.0</td>\n",
              "      <td>0.8592</td>\n",
              "      <td>1.5493</td>\n",
              "      <td>5.0</td>\n",
              "      <td>636888.0</td>\n",
              "      <td>8.0</td>\n",
              "    </tr>\n",
              "    <tr>\n",
              "      <th>8</th>\n",
              "      <td>42.0</td>\n",
              "      <td>191.0</td>\n",
              "      <td>1.0552</td>\n",
              "      <td>1.6701</td>\n",
              "      <td>34.0</td>\n",
              "      <td>1925142.0</td>\n",
              "      <td>7.5</td>\n",
              "    </tr>\n",
              "    <tr>\n",
              "      <th>9</th>\n",
              "      <td>43.0</td>\n",
              "      <td>148.0</td>\n",
              "      <td>1.5102</td>\n",
              "      <td>2.8176</td>\n",
              "      <td>118.0</td>\n",
              "      <td>1541357.0</td>\n",
              "      <td>6.0</td>\n",
              "    </tr>\n",
              "  </tbody>\n",
              "</table>\n",
              "</div>"
            ],
            "text/plain": [
              "   user_id  sum_tasks  ...  sum_score  CK_score\n",
              "0     24.0       72.0  ...   750299.0       9.5\n",
              "1     27.0        3.0  ...    39000.0      10.0\n",
              "2     29.0       72.0  ...   762760.0       8.5\n",
              "3     34.0       81.0  ...   822888.0       6.5\n",
              "4     35.0      145.0  ...  1477000.0       4.5\n",
              "5     37.0       93.0  ...   979712.0       7.5\n",
              "6     40.0      207.0  ...  2111388.0       8.0\n",
              "7     41.0       61.0  ...   636888.0       8.0\n",
              "8     42.0      191.0  ...  1925142.0       7.5\n",
              "9     43.0      148.0  ...  1541357.0       6.0\n",
              "\n",
              "[10 rows x 7 columns]"
            ]
          },
          "metadata": {
            "tags": []
          },
          "execution_count": 27
        }
      ]
    },
    {
      "cell_type": "code",
      "metadata": {
        "colab": {
          "base_uri": "https://localhost:8080/"
        },
        "id": "9DF6xI0iJocW",
        "outputId": "9fe2ed18-fcde-42f4-8209-0d4c4a4f1317"
      },
      "source": [
        "X_training = np.array([df_training['sum_tasks'],df_training['avg_submissions'],df_training['avg_solved_problem_per_sum_problems_have_submit'],df_training['sum_compilation_error'],df_training['sum_score']]).T\n",
        "y_training = np.array(df_training['CK_score']).T\n",
        "print('X_training: \\n', X_training[0:10])\n",
        "print('y_training: \\n', y_training[0:10])"
      ],
      "execution_count": null,
      "outputs": [
        {
          "output_type": "stream",
          "text": [
            "X_training: \n",
            " [[7.200000e+01 2.129900e+00 9.231000e-01 3.300000e+01 7.502990e+05]\n",
            " [3.000000e+00 2.600000e+00 6.000000e-01 0.000000e+00 3.900000e+04]\n",
            " [7.200000e+01 2.487500e+00 9.000000e-01 2.800000e+01 7.627600e+05]\n",
            " [8.100000e+01 2.595200e+00 9.643000e-01 1.600000e+01 8.228880e+05]\n",
            " [1.450000e+02 1.966900e+00 9.864000e-01 5.100000e+01 1.477000e+06]\n",
            " [9.300000e+01 3.058800e+00 9.118000e-01 6.200000e+01 9.797120e+05]\n",
            " [2.070000e+02 3.088400e+00 1.083800e+00 1.120000e+02 2.111388e+06]\n",
            " [6.100000e+01 1.549300e+00 8.592000e-01 5.000000e+00 6.368880e+05]\n",
            " [1.910000e+02 1.670100e+00 1.055200e+00 3.400000e+01 1.925142e+06]\n",
            " [1.480000e+02 2.817600e+00 1.510200e+00 1.180000e+02 1.541357e+06]]\n",
            "y_training: \n",
            " [ 9.5 10.   8.5  6.5  4.5  7.5  8.   8.   7.5  6. ]\n"
          ],
          "name": "stdout"
        }
      ]
    },
    {
      "cell_type": "code",
      "metadata": {
        "colab": {
          "base_uri": "https://localhost:8080/",
          "height": 343
        },
        "id": "LUUWJTlFJkHe",
        "outputId": "6a6052b3-1f52-4f79-9cbc-1013a2d4d675"
      },
      "source": [
        "# Lấy dữ liệu từ file data_testing.csv\n",
        "df_testing = pd.read_csv('/content/drive/MyDrive/Colab Notebooks/Predict_the_final_score_of_students_IT001/data_testing.csv')\n",
        "df_testing.head(10)"
      ],
      "execution_count": null,
      "outputs": [
        {
          "output_type": "execute_result",
          "data": {
            "text/html": [
              "<div>\n",
              "<style scoped>\n",
              "    .dataframe tbody tr th:only-of-type {\n",
              "        vertical-align: middle;\n",
              "    }\n",
              "\n",
              "    .dataframe tbody tr th {\n",
              "        vertical-align: top;\n",
              "    }\n",
              "\n",
              "    .dataframe thead th {\n",
              "        text-align: right;\n",
              "    }\n",
              "</style>\n",
              "<table border=\"1\" class=\"dataframe\">\n",
              "  <thead>\n",
              "    <tr style=\"text-align: right;\">\n",
              "      <th></th>\n",
              "      <th>user_id</th>\n",
              "      <th>sum_tasks</th>\n",
              "      <th>avg_submissions</th>\n",
              "      <th>avg_solved_problem_per_sum_problems_have_submit</th>\n",
              "      <th>sum_compilation_error</th>\n",
              "      <th>sum_score</th>\n",
              "    </tr>\n",
              "  </thead>\n",
              "  <tbody>\n",
              "    <tr>\n",
              "      <th>0</th>\n",
              "      <td>1.0</td>\n",
              "      <td>1.0</td>\n",
              "      <td>1.0000</td>\n",
              "      <td>0.5000</td>\n",
              "      <td>1.0</td>\n",
              "      <td>10000.0</td>\n",
              "    </tr>\n",
              "    <tr>\n",
              "      <th>1</th>\n",
              "      <td>4.0</td>\n",
              "      <td>37.0</td>\n",
              "      <td>1.4211</td>\n",
              "      <td>0.9024</td>\n",
              "      <td>6.0</td>\n",
              "      <td>370000.0</td>\n",
              "    </tr>\n",
              "    <tr>\n",
              "      <th>2</th>\n",
              "      <td>5.0</td>\n",
              "      <td>3.0</td>\n",
              "      <td>1.2000</td>\n",
              "      <td>0.6000</td>\n",
              "      <td>2.0</td>\n",
              "      <td>30000.0</td>\n",
              "    </tr>\n",
              "    <tr>\n",
              "      <th>3</th>\n",
              "      <td>6.0</td>\n",
              "      <td>85.0</td>\n",
              "      <td>1.4773</td>\n",
              "      <td>0.9659</td>\n",
              "      <td>25.0</td>\n",
              "      <td>850000.0</td>\n",
              "    </tr>\n",
              "    <tr>\n",
              "      <th>4</th>\n",
              "      <td>7.0</td>\n",
              "      <td>0.0</td>\n",
              "      <td>2.5000</td>\n",
              "      <td>0.0000</td>\n",
              "      <td>0.0</td>\n",
              "      <td>9209.0</td>\n",
              "    </tr>\n",
              "    <tr>\n",
              "      <th>5</th>\n",
              "      <td>11.0</td>\n",
              "      <td>9.0</td>\n",
              "      <td>4.1667</td>\n",
              "      <td>0.5000</td>\n",
              "      <td>7.0</td>\n",
              "      <td>100316.0</td>\n",
              "    </tr>\n",
              "    <tr>\n",
              "      <th>6</th>\n",
              "      <td>14.0</td>\n",
              "      <td>6.0</td>\n",
              "      <td>3.1429</td>\n",
              "      <td>0.8571</td>\n",
              "      <td>2.0</td>\n",
              "      <td>68000.0</td>\n",
              "    </tr>\n",
              "    <tr>\n",
              "      <th>7</th>\n",
              "      <td>15.0</td>\n",
              "      <td>45.0</td>\n",
              "      <td>1.9423</td>\n",
              "      <td>0.9000</td>\n",
              "      <td>25.0</td>\n",
              "      <td>458666.0</td>\n",
              "    </tr>\n",
              "    <tr>\n",
              "      <th>8</th>\n",
              "      <td>20.0</td>\n",
              "      <td>12.0</td>\n",
              "      <td>1.0833</td>\n",
              "      <td>1.0000</td>\n",
              "      <td>1.0</td>\n",
              "      <td>120000.0</td>\n",
              "    </tr>\n",
              "    <tr>\n",
              "      <th>9</th>\n",
              "      <td>31.0</td>\n",
              "      <td>3.0</td>\n",
              "      <td>4.3333</td>\n",
              "      <td>1.0000</td>\n",
              "      <td>0.0</td>\n",
              "      <td>30000.0</td>\n",
              "    </tr>\n",
              "  </tbody>\n",
              "</table>\n",
              "</div>"
            ],
            "text/plain": [
              "   user_id  sum_tasks  ...  sum_compilation_error  sum_score\n",
              "0      1.0        1.0  ...                    1.0    10000.0\n",
              "1      4.0       37.0  ...                    6.0   370000.0\n",
              "2      5.0        3.0  ...                    2.0    30000.0\n",
              "3      6.0       85.0  ...                   25.0   850000.0\n",
              "4      7.0        0.0  ...                    0.0     9209.0\n",
              "5     11.0        9.0  ...                    7.0   100316.0\n",
              "6     14.0        6.0  ...                    2.0    68000.0\n",
              "7     15.0       45.0  ...                   25.0   458666.0\n",
              "8     20.0       12.0  ...                    1.0   120000.0\n",
              "9     31.0        3.0  ...                    0.0    30000.0\n",
              "\n",
              "[10 rows x 6 columns]"
            ]
          },
          "metadata": {
            "tags": []
          },
          "execution_count": 29
        }
      ]
    },
    {
      "cell_type": "code",
      "metadata": {
        "colab": {
          "base_uri": "https://localhost:8080/"
        },
        "id": "BFO8vlqVL9We",
        "outputId": "8ea408e2-6496-4e8b-f8c1-dca6bf3a2bc8"
      },
      "source": [
        "X_testing = np.array([df_testing['sum_tasks'],df_testing['avg_submissions'],df_testing['avg_solved_problem_per_sum_problems_have_submit'],df_testing['sum_compilation_error'],df_testing['sum_score']]).T\n",
        "print('X_testing: \\n', X_testing[0:10])"
      ],
      "execution_count": null,
      "outputs": [
        {
          "output_type": "stream",
          "text": [
            "X_testing: \n",
            " [[1.00000e+00 1.00000e+00 5.00000e-01 1.00000e+00 1.00000e+04]\n",
            " [3.70000e+01 1.42110e+00 9.02400e-01 6.00000e+00 3.70000e+05]\n",
            " [3.00000e+00 1.20000e+00 6.00000e-01 2.00000e+00 3.00000e+04]\n",
            " [8.50000e+01 1.47730e+00 9.65900e-01 2.50000e+01 8.50000e+05]\n",
            " [0.00000e+00 2.50000e+00 0.00000e+00 0.00000e+00 9.20900e+03]\n",
            " [9.00000e+00 4.16670e+00 5.00000e-01 7.00000e+00 1.00316e+05]\n",
            " [6.00000e+00 3.14290e+00 8.57100e-01 2.00000e+00 6.80000e+04]\n",
            " [4.50000e+01 1.94230e+00 9.00000e-01 2.50000e+01 4.58666e+05]\n",
            " [1.20000e+01 1.08330e+00 1.00000e+00 1.00000e+00 1.20000e+05]\n",
            " [3.00000e+00 4.33330e+00 1.00000e+00 0.00000e+00 3.00000e+04]]\n"
          ],
          "name": "stdout"
        }
      ]
    },
    {
      "cell_type": "markdown",
      "metadata": {
        "id": "jc_F_4JUfQKH"
      },
      "source": [
        "**4.2.5. Visualize data**"
      ]
    },
    {
      "cell_type": "code",
      "metadata": {
        "colab": {
          "base_uri": "https://localhost:8080/"
        },
        "id": "62FIRoAiOhBi",
        "outputId": "9f696241-5c3e-463d-f7a5-e20606633002"
      },
      "source": [
        "x0 = X_training.T\n",
        "print(x0)"
      ],
      "execution_count": null,
      "outputs": [
        {
          "output_type": "stream",
          "text": [
            "[[7.20000e+01 3.00000e+00 7.20000e+01 ... 3.00000e+00 4.00000e+00\n",
            "  1.00000e+01]\n",
            " [2.12990e+00 2.60000e+00 2.48750e+00 ... 1.03330e+00 2.00000e+00\n",
            "  5.82350e+00]\n",
            " [9.23100e-01 6.00000e-01 9.00000e-01 ... 1.11100e-01 6.66700e-01\n",
            "  5.88200e-01]\n",
            " [3.30000e+01 0.00000e+00 2.80000e+01 ... 9.00000e+00 4.00000e+00\n",
            "  4.00000e+01]\n",
            " [7.50299e+05 3.90000e+04 7.62760e+05 ... 3.90000e+04 4.00000e+04\n",
            "  1.16428e+05]]\n"
          ],
          "name": "stdout"
        }
      ]
    },
    {
      "cell_type": "code",
      "metadata": {
        "colab": {
          "base_uri": "https://localhost:8080/",
          "height": 1000
        },
        "id": "nqw3HZR1Ll-i",
        "outputId": "d4511702-aae8-4850-e14c-3dd33186df47"
      },
      "source": [
        "import matplotlib.pyplot as plt\n",
        "\n",
        "plt.scatter(x0[0], y_training)\n",
        "plt.xlabel('Sum tasks')\n",
        "plt.ylabel('score final')\n",
        "plt.show()\n",
        "plt.scatter(x0[1], y_training)\n",
        "plt.xlabel('avg submissions')\n",
        "plt.ylabel('score final')\n",
        "plt.show()\n",
        "plt.scatter(x0[2], y_training)\n",
        "plt.xlabel('avg_solved_problem_per_sum_problems_have_submit')\n",
        "plt.ylabel('score final')\n",
        "plt.show()\n",
        "plt.scatter(x0[3], y_training)\n",
        "plt.xlabel('sum compilation error')\n",
        "plt.ylabel('score final')\n",
        "plt.show()\n",
        "plt.scatter(x0[4], y_training)\n",
        "plt.xlabel('Sum score')\n",
        "plt.ylabel('score final')\n",
        "plt.show()"
      ],
      "execution_count": null,
      "outputs": [
        {
          "output_type": "display_data",
          "data": {
            "image/png": "[encoded data removed]",
            "text/plain": [
              "<Figure size 432x288 with 1 Axes>"
            ]
          },
          "metadata": {
            "tags": [],
            "needs_background": "light"
          }
        },
        {
          "output_type": "display_data",
          "data": {
            "image/png": "[encoded data removed]",
            "text/plain": [
              "<Figure size 432x288 with 1 Axes>"
            ]
          },
          "metadata": {
            "tags": [],
            "needs_background": "light"
          }
        },
        {
          "output_type": "display_data",
          "data": {
            "image/png": "[encoded data removed]",
            "text/plain": [
              "<Figure size 432x288 with 1 Axes>"
            ]
          },
          "metadata": {
            "tags": [],
            "needs_background": "light"
          }
        },
        {
          "output_type": "display_data",
          "data": {
            "image/png": "[encoded data removed]",
            "text/plain": [
              "<Figure size 432x288 with 1 Axes>"
            ]
          },
          "metadata": {
            "tags": [],
            "needs_background": "light"
          }
        },
        {
          "output_type": "display_data",
          "data": {
            "image/png": "[encoded data removed]",
            "text/plain": [
              "<Figure size 432x288 with 1 Axes>"
            ]
          },
          "metadata": {
            "tags": [],
            "needs_background": "light"
          }
        }
      ]
    },
    {
      "cell_type": "markdown",
      "metadata": {
        "id": "a6x-DLAPhFM_"
      },
      "source": [
        "**4.2.6. Xử lý số liệu X để phù hợp với hàm train của thư viện**"
      ]
    },
    {
      "cell_type": "code",
      "metadata": {
        "colab": {
          "base_uri": "https://localhost:8080/"
        },
        "id": "EoKdNkLCOgm-",
        "outputId": "3e14610e-a358-4876-b98b-7b8dd0008850"
      },
      "source": [
        "import numpy as np \n",
        "\n",
        "# Building Xbar training\n",
        "one = np.ones((X_training.shape[0], 1))\n",
        "Xbar_training = np.concatenate((one, X_training), axis = 1)\n",
        "print('Xbar_training: \\n', Xbar_training[0:10])"
      ],
      "execution_count": null,
      "outputs": [
        {
          "output_type": "stream",
          "text": [
            "Xbar_training: \n",
            " [[1.000000e+00 7.200000e+01 2.129900e+00 9.231000e-01 3.300000e+01\n",
            "  7.502990e+05]\n",
            " [1.000000e+00 3.000000e+00 2.600000e+00 6.000000e-01 0.000000e+00\n",
            "  3.900000e+04]\n",
            " [1.000000e+00 7.200000e+01 2.487500e+00 9.000000e-01 2.800000e+01\n",
            "  7.627600e+05]\n",
            " [1.000000e+00 8.100000e+01 2.595200e+00 9.643000e-01 1.600000e+01\n",
            "  8.228880e+05]\n",
            " [1.000000e+00 1.450000e+02 1.966900e+00 9.864000e-01 5.100000e+01\n",
            "  1.477000e+06]\n",
            " [1.000000e+00 9.300000e+01 3.058800e+00 9.118000e-01 6.200000e+01\n",
            "  9.797120e+05]\n",
            " [1.000000e+00 2.070000e+02 3.088400e+00 1.083800e+00 1.120000e+02\n",
            "  2.111388e+06]\n",
            " [1.000000e+00 6.100000e+01 1.549300e+00 8.592000e-01 5.000000e+00\n",
            "  6.368880e+05]\n",
            " [1.000000e+00 1.910000e+02 1.670100e+00 1.055200e+00 3.400000e+01\n",
            "  1.925142e+06]\n",
            " [1.000000e+00 1.480000e+02 2.817600e+00 1.510200e+00 1.180000e+02\n",
            "  1.541357e+06]]\n"
          ],
          "name": "stdout"
        }
      ]
    },
    {
      "cell_type": "code",
      "metadata": {
        "colab": {
          "base_uri": "https://localhost:8080/"
        },
        "id": "sfrIoOpDQwOP",
        "outputId": "b725f0a4-8cb0-4b2b-a486-07411399191e"
      },
      "source": [
        "# Building Xbar testing\n",
        "one = np.ones((X_testing.shape[0], 1))\n",
        "Xbar_testing = np.concatenate((one, X_testing), axis = 1)\n",
        "print('Xbar_testing: \\n', Xbar_testing[0:10])"
      ],
      "execution_count": null,
      "outputs": [
        {
          "output_type": "stream",
          "text": [
            "Xbar_testing: \n",
            " [[1.00000e+00 1.00000e+00 1.00000e+00 5.00000e-01 1.00000e+00 1.00000e+04]\n",
            " [1.00000e+00 3.70000e+01 1.42110e+00 9.02400e-01 6.00000e+00 3.70000e+05]\n",
            " [1.00000e+00 3.00000e+00 1.20000e+00 6.00000e-01 2.00000e+00 3.00000e+04]\n",
            " [1.00000e+00 8.50000e+01 1.47730e+00 9.65900e-01 2.50000e+01 8.50000e+05]\n",
            " [1.00000e+00 0.00000e+00 2.50000e+00 0.00000e+00 0.00000e+00 9.20900e+03]\n",
            " [1.00000e+00 9.00000e+00 4.16670e+00 5.00000e-01 7.00000e+00 1.00316e+05]\n",
            " [1.00000e+00 6.00000e+00 3.14290e+00 8.57100e-01 2.00000e+00 6.80000e+04]\n",
            " [1.00000e+00 4.50000e+01 1.94230e+00 9.00000e-01 2.50000e+01 4.58666e+05]\n",
            " [1.00000e+00 1.20000e+01 1.08330e+00 1.00000e+00 1.00000e+00 1.20000e+05]\n",
            " [1.00000e+00 3.00000e+00 4.33330e+00 1.00000e+00 0.00000e+00 3.00000e+04]]\n"
          ],
          "name": "stdout"
        }
      ]
    },
    {
      "cell_type": "markdown",
      "metadata": {
        "id": "71Da6VbehWqI"
      },
      "source": [
        "**4.2.7. Thử train và predict không sử dụng thư viện**"
      ]
    },
    {
      "cell_type": "code",
      "metadata": {
        "colab": {
          "base_uri": "https://localhost:8080/"
        },
        "id": "qCDDm9InujlT",
        "outputId": "4a4e5cd9-f9e4-470a-e356-29c8a4dee5fb"
      },
      "source": [
        "# Calculating weights of the fitting line \n",
        "A = np.dot(Xbar_training.T, Xbar_training)\n",
        "print('A: ', A)\n",
        "b = np.dot(Xbar_training.T, y_training)\n",
        "print('b: ', b)\n",
        "w = np.dot(np.linalg.pinv(A), b)\n",
        "print('w: ', w)\n"
      ],
      "execution_count": null,
      "outputs": [
        {
          "output_type": "stream",
          "text": [
            "A:  [[8.06000000e+02 6.98660000e+04 2.09088620e+03 7.40162900e+02\n",
            "  3.44470000e+04 7.20117300e+08]\n",
            " [6.98660000e+04 8.30692400e+06 1.78743931e+05 6.93338972e+04\n",
            "  3.72107100e+06 8.53451886e+10]\n",
            " [2.09088620e+03 1.78743931e+05 6.41883955e+03 1.90321039e+03\n",
            "  1.01982557e+05 1.84408711e+09]\n",
            " [7.40162900e+02 6.93338972e+04 1.90321039e+03 7.12322013e+02\n",
            "  3.30680088e+04 7.13135634e+08]\n",
            " [3.44470000e+04 3.72107100e+06 1.01982557e+05 3.30680088e+04\n",
            "  2.37154300e+06 3.83147103e+10]\n",
            " [7.20117300e+08 8.53451886e+10 1.84408711e+09 7.13135634e+08\n",
            "  3.83147103e+10 8.77456071e+14]]\n",
            "b:  [4.9750000e+03 4.6059750e+05 1.3209408e+04 4.6321760e+03 2.1672050e+05\n",
            " 4.7489290e+09]\n",
            "w:  [ 3.39568652e+00 -7.40297351e-02  6.20836202e-01  2.63607153e-01\n",
            " -2.15960782e-02  9.24980995e-06]\n"
          ],
          "name": "stdout"
        }
      ]
    },
    {
      "cell_type": "code",
      "metadata": {
        "id": "_lPVndCjDr-Y"
      },
      "source": [
        "# Hàm dự đoán\n",
        "def predict(x_testing, w):\n",
        "  y = x_testing * np.array(w).T\n",
        "  return y"
      ],
      "execution_count": null,
      "outputs": []
    },
    {
      "cell_type": "code",
      "metadata": {
        "id": "bHPtMAfUERfX"
      },
      "source": [
        "# Hàm testing\n",
        "def testing(arr_data_testing, w):\n",
        "  arr_y = []\n",
        "  for i in range(len(arr_data_testing)):\n",
        "    arr_y.append(predict(arr_data_testing[i], w))\n",
        "  return arr_y"
      ],
      "execution_count": null,
      "outputs": []
    },
    {
      "cell_type": "code",
      "metadata": {
        "id": "KKZHZYnYFXCA"
      },
      "source": [
        "arr_y = testing(Xbar, w)\n",
        "print(arr_y)"
      ],
      "execution_count": null,
      "outputs": []
    },
    {
      "cell_type": "code",
      "metadata": {
        "colab": {
          "base_uri": "https://localhost:8080/"
        },
        "id": "-1i95VlsGLRg",
        "outputId": "eaa53110-9d5c-45a8-f18f-814dc351125d"
      },
      "source": [
        "# Dự đoán thử 1 bộ dữ liệu bất kỳ rồi đưa ra kết quả\n",
        "print(Xbar[1])\n",
        "print(w.reshape(-1, 1))\n",
        "y = Xbar[0].dot(w.reshape(-1, 1))\n",
        "print(y)"
      ],
      "execution_count": null,
      "outputs": [
        {
          "output_type": "stream",
          "text": [
            "[1.0e+00 3.0e+00 2.6e+00 6.0e-01 0.0e+00 3.9e+04]\n",
            "[[ 3.39568652e+00]\n",
            " [-7.40297351e-02]\n",
            " [ 6.20836202e-01]\n",
            " [ 2.63607153e-01]\n",
            " [-2.15960782e-02]\n",
            " [ 9.24980995e-06]]\n",
            "[5.85865295]\n"
          ],
          "name": "stdout"
        }
      ]
    },
    {
      "cell_type": "markdown",
      "metadata": {
        "id": "Ym76GOy-RO9u"
      },
      "source": [
        "**4.2.8. Train và test dựa trên thư viện có sẵn**"
      ]
    },
    {
      "cell_type": "code",
      "metadata": {
        "colab": {
          "base_uri": "https://localhost:8080/"
        },
        "id": "vQF1TbwS32y9",
        "outputId": "563aca56-35cb-4d02-8331-4373a4cdc194"
      },
      "source": [
        "from sklearn import datasets, linear_model\n",
        "\n",
        "# fit the model by Linear Regression\n",
        "regr = linear_model.LinearRegression(fit_intercept=False) # fit_intercept = False for calculating the bias\n",
        "regr.fit(Xbar_training, y_training)\n",
        "\n",
        "# Compare two results\n",
        "print( 'Solution found by scikit-learn  : ', regr.coef_ )\n",
        "print( 'Solution found by (5): ', w.T)"
      ],
      "execution_count": null,
      "outputs": [
        {
          "output_type": "stream",
          "text": [
            "Solution found by scikit-learn  :  [ 3.39568646e+00 -7.40297360e-02  6.20836207e-01  2.63607199e-01\n",
            " -2.15960783e-02  9.24981003e-06]\n",
            "Solution found by (5):  [ 3.39568652e+00 -7.40297351e-02  6.20836202e-01  2.63607153e-01\n",
            " -2.15960782e-02  9.24980995e-06]\n"
          ],
          "name": "stdout"
        }
      ]
    },
    {
      "cell_type": "code",
      "metadata": {
        "colab": {
          "base_uri": "https://localhost:8080/"
        },
        "id": "QnG4mnjn4q01",
        "outputId": "28fbc7a3-ba09-42cd-f7d6-69cf0d478ee6"
      },
      "source": [
        "# Dự đoán thử 1 bộ dữ liệu bất kỳ rồi đưa ra kết quả\n",
        "regr.predict(np.array([Xbar_training[19]]))"
      ],
      "execution_count": null,
      "outputs": [
        {
          "output_type": "execute_result",
          "data": {
            "text/plain": [
              "array([5.26842539])"
            ]
          },
          "metadata": {
            "tags": []
          },
          "execution_count": 41
        }
      ]
    },
    {
      "cell_type": "code",
      "metadata": {
        "colab": {
          "base_uri": "https://localhost:8080/"
        },
        "id": "d4qjsRzrXJsQ",
        "outputId": "c64cc041-e059-48e2-9a9c-240b8954b7a3"
      },
      "source": [
        "# Show bộ dự liệu đã dự đoán\n",
        "print(np.array([Xbar_training[19]]))"
      ],
      "execution_count": null,
      "outputs": [
        {
          "output_type": "stream",
          "text": [
            "[[1.00000e+00 2.10000e+01 2.20000e+00 8.40000e-01 1.30000e+01 2.29285e+05]]\n"
          ],
          "name": "stdout"
        }
      ]
    },
    {
      "cell_type": "code",
      "metadata": {
        "colab": {
          "base_uri": "https://localhost:8080/"
        },
        "id": "IHXXDWZPKEHS",
        "outputId": "0366b3c7-5c58-4a76-ffcf-7bcd109a8f0b"
      },
      "source": [
        "# Tính accuracy\n",
        "regr.score(Xbar_training, y_training)"
      ],
      "execution_count": null,
      "outputs": [
        {
          "output_type": "execute_result",
          "data": {
            "text/plain": [
              "0.18654757084300244"
            ]
          },
          "metadata": {
            "tags": []
          },
          "execution_count": 44
        }
      ]
    },
    {
      "cell_type": "markdown",
      "metadata": {
        "id": "Pw8khuLja3eG"
      },
      "source": [
        "**4.2.9. Dự đoán điểm thi cuối kỳ dựa trên bộ X_training**"
      ]
    },
    {
      "cell_type": "code",
      "metadata": {
        "colab": {
          "base_uri": "https://localhost:8080/"
        },
        "id": "XgYwpR_SRmy_",
        "outputId": "79cb75d4-7b46-49d9-bacf-99a7f2ac3061"
      },
      "source": [
        "regr.predict(Xbar_training[0:10])"
      ],
      "execution_count": null,
      "outputs": [
        {
          "output_type": "execute_result",
          "data": {
            "text/plain": [
              "array([5.85865295, 5.3066783 , 6.29781693, 6.53068882, 6.70308905,\n",
              "       6.37348489, 7.38579628, 5.85133803, 7.64395488, 6.29557543])"
            ]
          },
          "metadata": {
            "tags": []
          },
          "execution_count": 45
        }
      ]
    },
    {
      "cell_type": "code",
      "metadata": {
        "id": "3Ts7vjUIZba3"
      },
      "source": [
        "# Hàm làm tròn điểm số\n",
        "import numpy as np\n",
        "def x_round(x):\n",
        "    x = np.round(x*2)/2\n",
        "    return x"
      ],
      "execution_count": null,
      "outputs": []
    },
    {
      "cell_type": "code",
      "metadata": {
        "id": "TFp7wLdhUHf3"
      },
      "source": [
        "# Lưu predict results X_traning vào csv\n",
        "from pandas import DataFrame\n",
        "# Lấy dự liệu từ file data_training.csv\n",
        "import pandas as pd\n",
        "import numpy as np\n",
        "df_training = pd.read_csv('/content/drive/MyDrive/Colab Notebooks/Predict_the_final_score_of_students_IT001/data_training.csv')\n",
        "data_training_set = {\n",
        "    'user_id':df_training['user_id'],\n",
        "    'sum_tasks':df_training['sum_tasks'],\n",
        "    'avg_submissions':df_training['avg_submissions'],\n",
        "    'avg_solved_problem_per_sum_problems_have_submit':df_training['avg_solved_problem_per_sum_problems_have_submit'],\n",
        "    'sum_compilation_error':df_training['sum_compilation_error'],\n",
        "    'sum_score':df_training['sum_score'],\n",
        "    'CK_score':df_training['CK_score'],\n",
        "    'Predict_CK_score':x_round(regr.predict(Xbar_training))\n",
        "}\n",
        "df = DataFrame(data_training_set, columns= ['user_id', 'sum_tasks', 'avg_solved_problem_per_sum_problems_have_submit', 'avg_submissions', 'sum_compilation_error', 'sum_score', 'CK_score', 'Predict_CK_score'])\n",
        "export_csv = df.to_csv (r'/content/drive/MyDrive/Colab Notebooks/Predict_the_final_score_of_students_IT001/predict_X_training.csv', index = None, header=True)"
      ],
      "execution_count": null,
      "outputs": []
    },
    {
      "cell_type": "code",
      "metadata": {
        "colab": {
          "base_uri": "https://localhost:8080/",
          "height": 659
        },
        "id": "SZ-tkw17WtSP",
        "outputId": "44701cb7-aec4-49af-bdd2-94ee6484bcf8"
      },
      "source": [
        "df.head(20)"
      ],
      "execution_count": null,
      "outputs": [
        {
          "output_type": "execute_result",
          "data": {
            "text/html": [
              "<div>\n",
              "<style scoped>\n",
              "    .dataframe tbody tr th:only-of-type {\n",
              "        vertical-align: middle;\n",
              "    }\n",
              "\n",
              "    .dataframe tbody tr th {\n",
              "        vertical-align: top;\n",
              "    }\n",
              "\n",
              "    .dataframe thead th {\n",
              "        text-align: right;\n",
              "    }\n",
              "</style>\n",
              "<table border=\"1\" class=\"dataframe\">\n",
              "  <thead>\n",
              "    <tr style=\"text-align: right;\">\n",
              "      <th></th>\n",
              "      <th>user_id</th>\n",
              "      <th>sum_tasks</th>\n",
              "      <th>avg_solved_problem_per_sum_problems_have_submit</th>\n",
              "      <th>avg_submissions</th>\n",
              "      <th>sum_compilation_error</th>\n",
              "      <th>sum_score</th>\n",
              "      <th>CK_score</th>\n",
              "      <th>Predict_CK_score</th>\n",
              "    </tr>\n",
              "  </thead>\n",
              "  <tbody>\n",
              "    <tr>\n",
              "      <th>0</th>\n",
              "      <td>24.0</td>\n",
              "      <td>72.0</td>\n",
              "      <td>0.9231</td>\n",
              "      <td>2.1299</td>\n",
              "      <td>33.0</td>\n",
              "      <td>750299.0</td>\n",
              "      <td>9.5</td>\n",
              "      <td>6.0</td>\n",
              "    </tr>\n",
              "    <tr>\n",
              "      <th>1</th>\n",
              "      <td>27.0</td>\n",
              "      <td>3.0</td>\n",
              "      <td>0.6000</td>\n",
              "      <td>2.6000</td>\n",
              "      <td>0.0</td>\n",
              "      <td>39000.0</td>\n",
              "      <td>10.0</td>\n",
              "      <td>5.5</td>\n",
              "    </tr>\n",
              "    <tr>\n",
              "      <th>2</th>\n",
              "      <td>29.0</td>\n",
              "      <td>72.0</td>\n",
              "      <td>0.9000</td>\n",
              "      <td>2.4875</td>\n",
              "      <td>28.0</td>\n",
              "      <td>762760.0</td>\n",
              "      <td>8.5</td>\n",
              "      <td>6.5</td>\n",
              "    </tr>\n",
              "    <tr>\n",
              "      <th>3</th>\n",
              "      <td>34.0</td>\n",
              "      <td>81.0</td>\n",
              "      <td>0.9643</td>\n",
              "      <td>2.5952</td>\n",
              "      <td>16.0</td>\n",
              "      <td>822888.0</td>\n",
              "      <td>6.5</td>\n",
              "      <td>6.5</td>\n",
              "    </tr>\n",
              "    <tr>\n",
              "      <th>4</th>\n",
              "      <td>35.0</td>\n",
              "      <td>145.0</td>\n",
              "      <td>0.9864</td>\n",
              "      <td>1.9669</td>\n",
              "      <td>51.0</td>\n",
              "      <td>1477000.0</td>\n",
              "      <td>4.5</td>\n",
              "      <td>6.5</td>\n",
              "    </tr>\n",
              "    <tr>\n",
              "      <th>5</th>\n",
              "      <td>37.0</td>\n",
              "      <td>93.0</td>\n",
              "      <td>0.9118</td>\n",
              "      <td>3.0588</td>\n",
              "      <td>62.0</td>\n",
              "      <td>979712.0</td>\n",
              "      <td>7.5</td>\n",
              "      <td>6.5</td>\n",
              "    </tr>\n",
              "    <tr>\n",
              "      <th>6</th>\n",
              "      <td>40.0</td>\n",
              "      <td>207.0</td>\n",
              "      <td>1.0838</td>\n",
              "      <td>3.0884</td>\n",
              "      <td>112.0</td>\n",
              "      <td>2111388.0</td>\n",
              "      <td>8.0</td>\n",
              "      <td>7.5</td>\n",
              "    </tr>\n",
              "    <tr>\n",
              "      <th>7</th>\n",
              "      <td>41.0</td>\n",
              "      <td>61.0</td>\n",
              "      <td>0.8592</td>\n",
              "      <td>1.5493</td>\n",
              "      <td>5.0</td>\n",
              "      <td>636888.0</td>\n",
              "      <td>8.0</td>\n",
              "      <td>6.0</td>\n",
              "    </tr>\n",
              "    <tr>\n",
              "      <th>8</th>\n",
              "      <td>42.0</td>\n",
              "      <td>191.0</td>\n",
              "      <td>1.0552</td>\n",
              "      <td>1.6701</td>\n",
              "      <td>34.0</td>\n",
              "      <td>1925142.0</td>\n",
              "      <td>7.5</td>\n",
              "      <td>7.5</td>\n",
              "    </tr>\n",
              "    <tr>\n",
              "      <th>9</th>\n",
              "      <td>43.0</td>\n",
              "      <td>148.0</td>\n",
              "      <td>1.5102</td>\n",
              "      <td>2.8176</td>\n",
              "      <td>118.0</td>\n",
              "      <td>1541357.0</td>\n",
              "      <td>6.0</td>\n",
              "      <td>6.5</td>\n",
              "    </tr>\n",
              "    <tr>\n",
              "      <th>10</th>\n",
              "      <td>45.0</td>\n",
              "      <td>55.0</td>\n",
              "      <td>0.8333</td>\n",
              "      <td>2.4030</td>\n",
              "      <td>24.0</td>\n",
              "      <td>601388.0</td>\n",
              "      <td>7.5</td>\n",
              "      <td>6.0</td>\n",
              "    </tr>\n",
              "    <tr>\n",
              "      <th>11</th>\n",
              "      <td>47.0</td>\n",
              "      <td>66.0</td>\n",
              "      <td>0.9851</td>\n",
              "      <td>2.7761</td>\n",
              "      <td>42.0</td>\n",
              "      <td>666000.0</td>\n",
              "      <td>4.0</td>\n",
              "      <td>5.5</td>\n",
              "    </tr>\n",
              "    <tr>\n",
              "      <th>12</th>\n",
              "      <td>48.0</td>\n",
              "      <td>19.0</td>\n",
              "      <td>0.7600</td>\n",
              "      <td>1.0400</td>\n",
              "      <td>3.0</td>\n",
              "      <td>225285.0</td>\n",
              "      <td>3.0</td>\n",
              "      <td>5.0</td>\n",
              "    </tr>\n",
              "    <tr>\n",
              "      <th>13</th>\n",
              "      <td>49.0</td>\n",
              "      <td>97.0</td>\n",
              "      <td>0.9798</td>\n",
              "      <td>3.1616</td>\n",
              "      <td>126.0</td>\n",
              "      <td>984602.0</td>\n",
              "      <td>5.5</td>\n",
              "      <td>5.0</td>\n",
              "    </tr>\n",
              "    <tr>\n",
              "      <th>14</th>\n",
              "      <td>52.0</td>\n",
              "      <td>95.0</td>\n",
              "      <td>0.9500</td>\n",
              "      <td>3.4900</td>\n",
              "      <td>66.0</td>\n",
              "      <td>973888.0</td>\n",
              "      <td>4.5</td>\n",
              "      <td>6.5</td>\n",
              "    </tr>\n",
              "    <tr>\n",
              "      <th>15</th>\n",
              "      <td>53.0</td>\n",
              "      <td>105.0</td>\n",
              "      <td>0.8140</td>\n",
              "      <td>3.1008</td>\n",
              "      <td>123.0</td>\n",
              "      <td>1159627.0</td>\n",
              "      <td>6.0</td>\n",
              "      <td>6.0</td>\n",
              "    </tr>\n",
              "    <tr>\n",
              "      <th>16</th>\n",
              "      <td>55.0</td>\n",
              "      <td>81.0</td>\n",
              "      <td>0.9419</td>\n",
              "      <td>2.4186</td>\n",
              "      <td>62.0</td>\n",
              "      <td>827888.0</td>\n",
              "      <td>4.5</td>\n",
              "      <td>5.5</td>\n",
              "    </tr>\n",
              "    <tr>\n",
              "      <th>17</th>\n",
              "      <td>57.0</td>\n",
              "      <td>138.0</td>\n",
              "      <td>1.5862</td>\n",
              "      <td>2.2746</td>\n",
              "      <td>35.0</td>\n",
              "      <td>1399776.0</td>\n",
              "      <td>8.0</td>\n",
              "      <td>7.0</td>\n",
              "    </tr>\n",
              "    <tr>\n",
              "      <th>18</th>\n",
              "      <td>59.0</td>\n",
              "      <td>7.0</td>\n",
              "      <td>0.8750</td>\n",
              "      <td>3.2500</td>\n",
              "      <td>13.0</td>\n",
              "      <td>70000.0</td>\n",
              "      <td>6.5</td>\n",
              "      <td>5.5</td>\n",
              "    </tr>\n",
              "    <tr>\n",
              "      <th>19</th>\n",
              "      <td>64.0</td>\n",
              "      <td>21.0</td>\n",
              "      <td>0.8400</td>\n",
              "      <td>2.2000</td>\n",
              "      <td>13.0</td>\n",
              "      <td>229285.0</td>\n",
              "      <td>9.0</td>\n",
              "      <td>5.5</td>\n",
              "    </tr>\n",
              "  </tbody>\n",
              "</table>\n",
              "</div>"
            ],
            "text/plain": [
              "    user_id  sum_tasks  ...  CK_score  Predict_CK_score\n",
              "0      24.0       72.0  ...       9.5               6.0\n",
              "1      27.0        3.0  ...      10.0               5.5\n",
              "2      29.0       72.0  ...       8.5               6.5\n",
              "3      34.0       81.0  ...       6.5               6.5\n",
              "4      35.0      145.0  ...       4.5               6.5\n",
              "5      37.0       93.0  ...       7.5               6.5\n",
              "6      40.0      207.0  ...       8.0               7.5\n",
              "7      41.0       61.0  ...       8.0               6.0\n",
              "8      42.0      191.0  ...       7.5               7.5\n",
              "9      43.0      148.0  ...       6.0               6.5\n",
              "10     45.0       55.0  ...       7.5               6.0\n",
              "11     47.0       66.0  ...       4.0               5.5\n",
              "12     48.0       19.0  ...       3.0               5.0\n",
              "13     49.0       97.0  ...       5.5               5.0\n",
              "14     52.0       95.0  ...       4.5               6.5\n",
              "15     53.0      105.0  ...       6.0               6.0\n",
              "16     55.0       81.0  ...       4.5               5.5\n",
              "17     57.0      138.0  ...       8.0               7.0\n",
              "18     59.0        7.0  ...       6.5               5.5\n",
              "19     64.0       21.0  ...       9.0               5.5\n",
              "\n",
              "[20 rows x 8 columns]"
            ]
          },
          "metadata": {
            "tags": []
          },
          "execution_count": 48
        }
      ]
    },
    {
      "cell_type": "markdown",
      "metadata": {
        "id": "7QuZ5OhSanBW"
      },
      "source": [
        "**4.2.10. Dự đoán điểm thi cuối kỳ dựa trên bộ X_testing**"
      ]
    },
    {
      "cell_type": "code",
      "metadata": {
        "colab": {
          "base_uri": "https://localhost:8080/"
        },
        "id": "DDK85yjqajsB",
        "outputId": "2e55d474-ebac-429a-9a15-fafd478105fe"
      },
      "source": [
        "regr.predict(Xbar_testing[0:10])"
      ],
      "execution_count": null,
      "outputs": [
        {
          "output_type": "execute_result",
          "data": {
            "text/plain": [
              "array([4.14519856, 5.06958895, 4.31106717, 5.597375  , 5.03295848,\n",
              "       6.22479206, 5.71446682, 5.2101164 , 4.53186982, 6.40496829])"
            ]
          },
          "metadata": {
            "tags": []
          },
          "execution_count": 50
        }
      ]
    },
    {
      "cell_type": "code",
      "metadata": {
        "id": "iXTgUlsZbIhv"
      },
      "source": [
        "# Lưu predict results X_testing vào csv\n",
        "from pandas import DataFrame\n",
        "# Lấy dự liệu từ file data_training.csv\n",
        "import pandas as pd\n",
        "import numpy as np\n",
        "df_Xtesting = pd.read_csv('/content/drive/MyDrive/Colab Notebooks/Predict_the_final_score_of_students_IT001/data_testing.csv')\n",
        "data_training_set = {\n",
        "    'user_id':df_Xtesting['user_id'],\n",
        "    'sum_tasks':df_Xtesting['sum_tasks'],\n",
        "    'avg_submissions':df_Xtesting['avg_submissions'],\n",
        "    'avg_solved_problem_per_sum_problems_have_submit':df_Xtesting['avg_solved_problem_per_sum_problems_have_submit'],\n",
        "    'sum_compilation_error':df_Xtesting['sum_compilation_error'],\n",
        "    'sum_score':df_Xtesting['sum_score'],\n",
        "    'Predict_CK_score':x_round(regr.predict(Xbar_testing))\n",
        "}\n",
        "df = DataFrame(data_training_set, columns= ['user_id', 'sum_tasks', 'avg_solved_problem_per_sum_problems_have_submit', 'avg_submissions', 'sum_compilation_error', 'sum_score', 'Predict_CK_score'])\n",
        "export_csv = df.to_csv (r'/content/drive/MyDrive/Colab Notebooks/Predict_the_final_score_of_students_IT001/predict_X_testing.csv', index = None, header=True)"
      ],
      "execution_count": null,
      "outputs": []
    },
    {
      "cell_type": "code",
      "metadata": {
        "colab": {
          "base_uri": "https://localhost:8080/",
          "height": 659
        },
        "id": "pbP2KA4uea24",
        "outputId": "470650e7-383a-4d92-f16d-69fc03fe34bd"
      },
      "source": [
        "df.head(20)"
      ],
      "execution_count": null,
      "outputs": [
        {
          "output_type": "execute_result",
          "data": {
            "text/html": [
              "<div>\n",
              "<style scoped>\n",
              "    .dataframe tbody tr th:only-of-type {\n",
              "        vertical-align: middle;\n",
              "    }\n",
              "\n",
              "    .dataframe tbody tr th {\n",
              "        vertical-align: top;\n",
              "    }\n",
              "\n",
              "    .dataframe thead th {\n",
              "        text-align: right;\n",
              "    }\n",
              "</style>\n",
              "<table border=\"1\" class=\"dataframe\">\n",
              "  <thead>\n",
              "    <tr style=\"text-align: right;\">\n",
              "      <th></th>\n",
              "      <th>user_id</th>\n",
              "      <th>sum_tasks</th>\n",
              "      <th>avg_solved_problem_per_sum_problems_have_submit</th>\n",
              "      <th>avg_submissions</th>\n",
              "      <th>sum_compilation_error</th>\n",
              "      <th>sum_score</th>\n",
              "      <th>Predict_CK_score</th>\n",
              "    </tr>\n",
              "  </thead>\n",
              "  <tbody>\n",
              "    <tr>\n",
              "      <th>0</th>\n",
              "      <td>1.0</td>\n",
              "      <td>1.0</td>\n",
              "      <td>0.5000</td>\n",
              "      <td>1.0000</td>\n",
              "      <td>1.0</td>\n",
              "      <td>10000.0</td>\n",
              "      <td>4.0</td>\n",
              "    </tr>\n",
              "    <tr>\n",
              "      <th>1</th>\n",
              "      <td>4.0</td>\n",
              "      <td>37.0</td>\n",
              "      <td>0.9024</td>\n",
              "      <td>1.4211</td>\n",
              "      <td>6.0</td>\n",
              "      <td>370000.0</td>\n",
              "      <td>5.0</td>\n",
              "    </tr>\n",
              "    <tr>\n",
              "      <th>2</th>\n",
              "      <td>5.0</td>\n",
              "      <td>3.0</td>\n",
              "      <td>0.6000</td>\n",
              "      <td>1.2000</td>\n",
              "      <td>2.0</td>\n",
              "      <td>30000.0</td>\n",
              "      <td>4.5</td>\n",
              "    </tr>\n",
              "    <tr>\n",
              "      <th>3</th>\n",
              "      <td>6.0</td>\n",
              "      <td>85.0</td>\n",
              "      <td>0.9659</td>\n",
              "      <td>1.4773</td>\n",
              "      <td>25.0</td>\n",
              "      <td>850000.0</td>\n",
              "      <td>5.5</td>\n",
              "    </tr>\n",
              "    <tr>\n",
              "      <th>4</th>\n",
              "      <td>7.0</td>\n",
              "      <td>0.0</td>\n",
              "      <td>0.0000</td>\n",
              "      <td>2.5000</td>\n",
              "      <td>0.0</td>\n",
              "      <td>9209.0</td>\n",
              "      <td>5.0</td>\n",
              "    </tr>\n",
              "    <tr>\n",
              "      <th>5</th>\n",
              "      <td>11.0</td>\n",
              "      <td>9.0</td>\n",
              "      <td>0.5000</td>\n",
              "      <td>4.1667</td>\n",
              "      <td>7.0</td>\n",
              "      <td>100316.0</td>\n",
              "      <td>6.0</td>\n",
              "    </tr>\n",
              "    <tr>\n",
              "      <th>6</th>\n",
              "      <td>14.0</td>\n",
              "      <td>6.0</td>\n",
              "      <td>0.8571</td>\n",
              "      <td>3.1429</td>\n",
              "      <td>2.0</td>\n",
              "      <td>68000.0</td>\n",
              "      <td>5.5</td>\n",
              "    </tr>\n",
              "    <tr>\n",
              "      <th>7</th>\n",
              "      <td>15.0</td>\n",
              "      <td>45.0</td>\n",
              "      <td>0.9000</td>\n",
              "      <td>1.9423</td>\n",
              "      <td>25.0</td>\n",
              "      <td>458666.0</td>\n",
              "      <td>5.0</td>\n",
              "    </tr>\n",
              "    <tr>\n",
              "      <th>8</th>\n",
              "      <td>20.0</td>\n",
              "      <td>12.0</td>\n",
              "      <td>1.0000</td>\n",
              "      <td>1.0833</td>\n",
              "      <td>1.0</td>\n",
              "      <td>120000.0</td>\n",
              "      <td>4.5</td>\n",
              "    </tr>\n",
              "    <tr>\n",
              "      <th>9</th>\n",
              "      <td>31.0</td>\n",
              "      <td>3.0</td>\n",
              "      <td>1.0000</td>\n",
              "      <td>4.3333</td>\n",
              "      <td>0.0</td>\n",
              "      <td>30000.0</td>\n",
              "      <td>6.5</td>\n",
              "    </tr>\n",
              "    <tr>\n",
              "      <th>10</th>\n",
              "      <td>51.0</td>\n",
              "      <td>38.0</td>\n",
              "      <td>0.9744</td>\n",
              "      <td>2.2051</td>\n",
              "      <td>27.0</td>\n",
              "      <td>380000.0</td>\n",
              "      <td>5.0</td>\n",
              "    </tr>\n",
              "    <tr>\n",
              "      <th>11</th>\n",
              "      <td>65.0</td>\n",
              "      <td>62.0</td>\n",
              "      <td>1.0333</td>\n",
              "      <td>2.9524</td>\n",
              "      <td>35.0</td>\n",
              "      <td>622000.0</td>\n",
              "      <td>6.0</td>\n",
              "    </tr>\n",
              "    <tr>\n",
              "      <th>12</th>\n",
              "      <td>83.0</td>\n",
              "      <td>101.0</td>\n",
              "      <td>0.9712</td>\n",
              "      <td>4.7115</td>\n",
              "      <td>103.0</td>\n",
              "      <td>1035978.0</td>\n",
              "      <td>6.5</td>\n",
              "    </tr>\n",
              "    <tr>\n",
              "      <th>13</th>\n",
              "      <td>87.0</td>\n",
              "      <td>109.0</td>\n",
              "      <td>1.0381</td>\n",
              "      <td>3.2583</td>\n",
              "      <td>153.0</td>\n",
              "      <td>1154120.0</td>\n",
              "      <td>5.0</td>\n",
              "    </tr>\n",
              "    <tr>\n",
              "      <th>14</th>\n",
              "      <td>90.0</td>\n",
              "      <td>224.0</td>\n",
              "      <td>1.0821</td>\n",
              "      <td>2.2944</td>\n",
              "      <td>65.0</td>\n",
              "      <td>2275904.0</td>\n",
              "      <td>8.0</td>\n",
              "    </tr>\n",
              "    <tr>\n",
              "      <th>15</th>\n",
              "      <td>91.0</td>\n",
              "      <td>89.0</td>\n",
              "      <td>0.9368</td>\n",
              "      <td>1.6105</td>\n",
              "      <td>24.0</td>\n",
              "      <td>896363.0</td>\n",
              "      <td>6.0</td>\n",
              "    </tr>\n",
              "    <tr>\n",
              "      <th>16</th>\n",
              "      <td>105.0</td>\n",
              "      <td>44.0</td>\n",
              "      <td>0.6667</td>\n",
              "      <td>2.7879</td>\n",
              "      <td>33.0</td>\n",
              "      <td>516370.0</td>\n",
              "      <td>6.0</td>\n",
              "    </tr>\n",
              "    <tr>\n",
              "      <th>17</th>\n",
              "      <td>124.0</td>\n",
              "      <td>90.0</td>\n",
              "      <td>0.9574</td>\n",
              "      <td>2.7979</td>\n",
              "      <td>85.0</td>\n",
              "      <td>920745.0</td>\n",
              "      <td>5.5</td>\n",
              "    </tr>\n",
              "    <tr>\n",
              "      <th>18</th>\n",
              "      <td>131.0</td>\n",
              "      <td>87.0</td>\n",
              "      <td>0.9886</td>\n",
              "      <td>1.9432</td>\n",
              "      <td>45.0</td>\n",
              "      <td>878888.0</td>\n",
              "      <td>5.5</td>\n",
              "    </tr>\n",
              "    <tr>\n",
              "      <th>19</th>\n",
              "      <td>165.0</td>\n",
              "      <td>162.0</td>\n",
              "      <td>1.0062</td>\n",
              "      <td>3.2560</td>\n",
              "      <td>81.0</td>\n",
              "      <td>1643448.0</td>\n",
              "      <td>7.0</td>\n",
              "    </tr>\n",
              "  </tbody>\n",
              "</table>\n",
              "</div>"
            ],
            "text/plain": [
              "    user_id  sum_tasks  ...  sum_score  Predict_CK_score\n",
              "0       1.0        1.0  ...    10000.0               4.0\n",
              "1       4.0       37.0  ...   370000.0               5.0\n",
              "2       5.0        3.0  ...    30000.0               4.5\n",
              "3       6.0       85.0  ...   850000.0               5.5\n",
              "4       7.0        0.0  ...     9209.0               5.0\n",
              "5      11.0        9.0  ...   100316.0               6.0\n",
              "6      14.0        6.0  ...    68000.0               5.5\n",
              "7      15.0       45.0  ...   458666.0               5.0\n",
              "8      20.0       12.0  ...   120000.0               4.5\n",
              "9      31.0        3.0  ...    30000.0               6.5\n",
              "10     51.0       38.0  ...   380000.0               5.0\n",
              "11     65.0       62.0  ...   622000.0               6.0\n",
              "12     83.0      101.0  ...  1035978.0               6.5\n",
              "13     87.0      109.0  ...  1154120.0               5.0\n",
              "14     90.0      224.0  ...  2275904.0               8.0\n",
              "15     91.0       89.0  ...   896363.0               6.0\n",
              "16    105.0       44.0  ...   516370.0               6.0\n",
              "17    124.0       90.0  ...   920745.0               5.5\n",
              "18    131.0       87.0  ...   878888.0               5.5\n",
              "19    165.0      162.0  ...  1643448.0               7.0\n",
              "\n",
              "[20 rows x 7 columns]"
            ]
          },
          "metadata": {
            "tags": []
          },
          "execution_count": 52
        }
      ]
    }
  ]
}