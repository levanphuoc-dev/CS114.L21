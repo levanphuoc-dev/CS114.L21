{
 "metadata": {
  "language_info": {
   "codemirror_mode": {
    "name": "ipython",
    "version": 3
   },
   "file_extension": ".py",
   "mimetype": "text/x-python",
   "name": "python",
   "nbconvert_exporter": "python",
   "pygments_lexer": "ipython3",
   "version": "3.7.10"
  },
  "orig_nbformat": 4,
  "kernelspec": {
   "name": "python3",
   "display_name": "Python 3.7.10 64-bit ('ds': conda)"
  },
  "interpreter": {
   "hash": "05f67ca6b088aedcf9ce867f0104c3ffc4e723b9785bf95b0972f9b09ce6c081"
  }
 },
 "nbformat": 4,
 "nbformat_minor": 2,
 "cells": [
  {
   "source": [
    "# Import and read data"
   ],
   "cell_type": "markdown",
   "metadata": {}
  },
  {
   "cell_type": "code",
   "execution_count": 9,
   "metadata": {},
   "outputs": [],
   "source": [
    "import pandas as pd"
   ]
  },
  {
   "cell_type": "code",
   "execution_count": 10,
   "metadata": {},
   "outputs": [],
   "source": [
    "weather = pd.read_csv('weather/data.csv')"
   ]
  },
  {
   "cell_type": "code",
   "execution_count": 12,
   "metadata": {},
   "outputs": [
    {
     "output_type": "execute_result",
     "data": {
      "text/plain": [
       "         province  day  month  year max_temp(celcius) min_temp(celcius)  \\\n",
       "0        Bac Lieu    1      1  2009             27 °c             22 °c   \n",
       "1        Bac Lieu    1      1  2010             31 °c             25 °c   \n",
       "2        Bac Lieu    1      1  2011             29 °c             24 °c   \n",
       "3        Bac Lieu    1      1  2012             30 °c             24 °c   \n",
       "4        Bac Lieu    1      1  2013             31 °c             25 °c   \n",
       "...           ...  ...    ...   ...               ...               ...   \n",
       "181955  Soc Trang   28     12  2016             28 °c             23 °c   \n",
       "181956  Soc Trang   28     12  2017             30 °c             24 °c   \n",
       "181957  Soc Trang   28     12  2018             26 °c             24 °c   \n",
       "181958  Soc Trang   28     12  2019             30 °c             23 °c   \n",
       "181959  Soc Trang   28     12  2020             29 °c             24 °c   \n",
       "\n",
       "       wind(km/h) wind_d rain(mm) humidi(%) cloud(%) pressure(mb)  \n",
       "0         17 km/h    NNE   6.9 mm       90%      71%      1010 mb  \n",
       "1         20 km/h    ENE   0.0 mm       64%      24%      1010 mb  \n",
       "2         14 km/h      E   0.0 mm       75%      45%      1008 mb  \n",
       "3         30 km/h      E   0.0 mm       79%      52%      1012 mb  \n",
       "4         20 km/h    ENE   0.0 mm       70%      24%      1010 mb  \n",
       "...           ...    ...      ...       ...      ...          ...  \n",
       "181955     8 km/h    SSW   0.0 mm       75%      50%      1011 mb  \n",
       "181956    21 km/h    ENE   7.2 mm       81%      50%      1011 mb  \n",
       "181957     9 km/h    ENE   1.3 mm       91%      75%      1009 mb  \n",
       "181958    11 km/h      E   0.0 mm       74%       6%      1012 mb  \n",
       "181959     9 km/h    ESE   0.7 mm       84%      43%      1009 mb  \n",
       "\n",
       "[181960 rows x 12 columns]"
      ],
      "text/html": "<div>\n<style scoped>\n    .dataframe tbody tr th:only-of-type {\n        vertical-align: middle;\n    }\n\n    .dataframe tbody tr th {\n        vertical-align: top;\n    }\n\n    .dataframe thead th {\n        text-align: right;\n    }\n</style>\n<table border=\"1\" class=\"dataframe\">\n  <thead>\n    <tr style=\"text-align: right;\">\n      <th></th>\n      <th>province</th>\n      <th>day</th>\n      <th>month</th>\n      <th>year</th>\n      <th>max_temp(celcius)</th>\n      <th>min_temp(celcius)</th>\n      <th>wind(km/h)</th>\n      <th>wind_d</th>\n      <th>rain(mm)</th>\n      <th>humidi(%)</th>\n      <th>cloud(%)</th>\n      <th>pressure(mb)</th>\n    </tr>\n  </thead>\n  <tbody>\n    <tr>\n      <th>0</th>\n      <td>Bac Lieu</td>\n      <td>1</td>\n      <td>1</td>\n      <td>2009</td>\n      <td>27 °c</td>\n      <td>22 °c</td>\n      <td>17 km/h</td>\n      <td>NNE</td>\n      <td>6.9 mm</td>\n      <td>90%</td>\n      <td>71%</td>\n      <td>1010 mb</td>\n    </tr>\n    <tr>\n      <th>1</th>\n      <td>Bac Lieu</td>\n      <td>1</td>\n      <td>1</td>\n      <td>2010</td>\n      <td>31 °c</td>\n      <td>25 °c</td>\n      <td>20 km/h</td>\n      <td>ENE</td>\n      <td>0.0 mm</td>\n      <td>64%</td>\n      <td>24%</td>\n      <td>1010 mb</td>\n    </tr>\n    <tr>\n      <th>2</th>\n      <td>Bac Lieu</td>\n      <td>1</td>\n      <td>1</td>\n      <td>2011</td>\n      <td>29 °c</td>\n      <td>24 °c</td>\n      <td>14 km/h</td>\n      <td>E</td>\n      <td>0.0 mm</td>\n      <td>75%</td>\n      <td>45%</td>\n      <td>1008 mb</td>\n    </tr>\n    <tr>\n      <th>3</th>\n      <td>Bac Lieu</td>\n      <td>1</td>\n      <td>1</td>\n      <td>2012</td>\n      <td>30 °c</td>\n      <td>24 °c</td>\n      <td>30 km/h</td>\n      <td>E</td>\n      <td>0.0 mm</td>\n      <td>79%</td>\n      <td>52%</td>\n      <td>1012 mb</td>\n    </tr>\n    <tr>\n      <th>4</th>\n      <td>Bac Lieu</td>\n      <td>1</td>\n      <td>1</td>\n      <td>2013</td>\n      <td>31 °c</td>\n      <td>25 °c</td>\n      <td>20 km/h</td>\n      <td>ENE</td>\n      <td>0.0 mm</td>\n      <td>70%</td>\n      <td>24%</td>\n      <td>1010 mb</td>\n    </tr>\n    <tr>\n      <th>...</th>\n      <td>...</td>\n      <td>...</td>\n      <td>...</td>\n      <td>...</td>\n      <td>...</td>\n      <td>...</td>\n      <td>...</td>\n      <td>...</td>\n      <td>...</td>\n      <td>...</td>\n      <td>...</td>\n      <td>...</td>\n    </tr>\n    <tr>\n      <th>181955</th>\n      <td>Soc Trang</td>\n      <td>28</td>\n      <td>12</td>\n      <td>2016</td>\n      <td>28 °c</td>\n      <td>23 °c</td>\n      <td>8 km/h</td>\n      <td>SSW</td>\n      <td>0.0 mm</td>\n      <td>75%</td>\n      <td>50%</td>\n      <td>1011 mb</td>\n    </tr>\n    <tr>\n      <th>181956</th>\n      <td>Soc Trang</td>\n      <td>28</td>\n      <td>12</td>\n      <td>2017</td>\n      <td>30 °c</td>\n      <td>24 °c</td>\n      <td>21 km/h</td>\n      <td>ENE</td>\n      <td>7.2 mm</td>\n      <td>81%</td>\n      <td>50%</td>\n      <td>1011 mb</td>\n    </tr>\n    <tr>\n      <th>181957</th>\n      <td>Soc Trang</td>\n      <td>28</td>\n      <td>12</td>\n      <td>2018</td>\n      <td>26 °c</td>\n      <td>24 °c</td>\n      <td>9 km/h</td>\n      <td>ENE</td>\n      <td>1.3 mm</td>\n      <td>91%</td>\n      <td>75%</td>\n      <td>1009 mb</td>\n    </tr>\n    <tr>\n      <th>181958</th>\n      <td>Soc Trang</td>\n      <td>28</td>\n      <td>12</td>\n      <td>2019</td>\n      <td>30 °c</td>\n      <td>23 °c</td>\n      <td>11 km/h</td>\n      <td>E</td>\n      <td>0.0 mm</td>\n      <td>74%</td>\n      <td>6%</td>\n      <td>1012 mb</td>\n    </tr>\n    <tr>\n      <th>181959</th>\n      <td>Soc Trang</td>\n      <td>28</td>\n      <td>12</td>\n      <td>2020</td>\n      <td>29 °c</td>\n      <td>24 °c</td>\n      <td>9 km/h</td>\n      <td>ESE</td>\n      <td>0.7 mm</td>\n      <td>84%</td>\n      <td>43%</td>\n      <td>1009 mb</td>\n    </tr>\n  </tbody>\n</table>\n<p>181960 rows × 12 columns</p>\n</div>"
     },
     "metadata": {},
     "execution_count": 12
    }
   ],
   "source": [
    "weather"
   ]
  },
  {
   "source": [
    "# Remove unit and turn to vector"
   ],
   "cell_type": "markdown",
   "metadata": {}
  },
  {
   "cell_type": "code",
   "execution_count": 13,
   "metadata": {},
   "outputs": [],
   "source": [
    "weather['date'] = pd.to_datetime([f'{y}-{m}-{d}' for y, m, d in zip(weather.year, weather.month, weather.day)])"
   ]
  },
  {
   "cell_type": "code",
   "execution_count": 14,
   "metadata": {},
   "outputs": [],
   "source": [
    "# This remove all unit and turn data to numerical\n",
    "#\n",
    "# rain\n",
    "weather['rain(mm)'] = pd.to_numeric(weather['rain(mm)'].map(lambda c: c.rstrip('m')))\n",
    "\n",
    "# wind\n",
    "weather['wind(km/h)'] = pd.to_numeric(weather['wind(km/h)'].map(lambda c: c.rstrip('km/h')))\n",
    "\n",
    "# tempeture\n",
    "weather['min_temp(celcius)'] = pd.to_numeric(weather['min_temp(celcius)'].map(lambda c: c.rstrip('°c')))\n",
    "weather['max_temp(celcius)'] = pd.to_numeric(weather['max_temp(celcius)'].map(lambda c: c.rstrip('°c')))\n",
    "\n",
    "# humidi, cloud, pressure\n",
    "weather['humidi(%)'] = pd.to_numeric(weather['humidi(%)'].map(lambda c: c.rstrip('%')))\n",
    "weather['cloud(%)'] = pd.to_numeric(weather['cloud(%)'].map(lambda c: c.rstrip('%')))\n",
    "\n",
    "weather['pressure(mb)'] = pd.to_numeric(weather['pressure(mb)'].map(lambda c: c.rstrip('mb')))"
   ]
  },
  {
   "source": [
    "# Statics"
   ],
   "cell_type": "markdown",
   "metadata": {}
  },
  {
   "cell_type": "code",
   "execution_count": 11,
   "metadata": {},
   "outputs": [
    {
     "output_type": "execute_result",
     "data": {
      "text/plain": [
       "province               40\n",
       "day                    31\n",
       "month                  12\n",
       "year                   13\n",
       "max_temp(celcius)      43\n",
       "min_temp(celcius)      31\n",
       "wind(km/h)             51\n",
       "wind_d                 16\n",
       "rain(mm)             1298\n",
       "humidi(%)              77\n",
       "cloud(%)              101\n",
       "pressure(mb)           49\n",
       "dtype: int64"
      ]
     },
     "metadata": {},
     "execution_count": 11
    }
   ],
   "source": [
    "weather.nunique()"
   ]
  },
  {
   "cell_type": "code",
   "execution_count": 18,
   "metadata": {},
   "outputs": [
    {
     "output_type": "execute_result",
     "data": {
      "text/plain": [
       "                 max_temp(celcius)                      \n",
       "                               min max       mean median\n",
       "province                                                \n",
       "Bac Lieu                        22  39  31.981974     32\n",
       "Ben Tre                         21  41  32.680809     33\n",
       "Bien Hoa                        22  41  32.992306     33\n",
       "Buon Me Thuot                   18  42  30.645856     31\n",
       "Ca Mau                          22  39  31.660365     32\n",
       "Cam Pha                          8  34  25.486920     26\n",
       "Cam Ranh                        22  35  28.851396     29\n",
       "Can Tho                         22  40  32.451088     32\n",
       "Chau Doc                        22  40  32.818202     33\n",
       "Da Lat                          14  36  25.871840     26\n",
       "Ha Noi                           7  45  29.489998     30\n",
       "Hai Duong                        8  40  28.189712     29\n",
       "Hai Phong                        7  39  27.633985     28\n",
       "Hanoi                            7  45  29.489998     30\n",
       "Ho Chi Minh City                22  41  32.992306     33\n",
       "Hoa Binh                         4  46  28.619697     29\n",
       "Hong Gai                         8  35  25.650253     27\n",
       "Hue                             15  39  29.256760     30\n",
       "Long Xuyen                      23  40  32.693559     33\n",
       "My Tho                          21  41  32.680809     33\n",
       "Nam Dinh                         6  43  28.790284     29\n",
       "Nha Trang                       19  36  28.899319     29\n",
       "Phan Rang                       22  35  28.851396     29\n",
       "Phan Thiet                      23  37  31.395911     32\n",
       "Play Cu                         16  40  28.647175     29\n",
       "Qui Nhon                        19  36  29.027918     29\n",
       "Rach Gia                        22  40  31.037371     31\n",
       "Soc Trang                       22  39  31.981974     32\n",
       "Tam Ky                          18  40  29.246428     29\n",
       "Tan An                          22  41  32.920202     33\n",
       "Thai Nguyen                      6  42  28.044625     29\n",
       "Thanh Hoa                        7  41  28.216971     29\n",
       "Tra Vinh                        21  39  31.632007     32\n",
       "Tuy Hoa                         19  36  29.027918     29\n",
       "Uong Bi                          5  37  26.362058     27\n",
       "Viet Tri                         6  43  28.259837     29\n",
       "Vinh                             8  40  28.232579     29\n",
       "Vinh Long                       22  40  32.542097     33\n",
       "Vung Tau                        23  35  29.977358     30\n",
       "Yen Bai                          6  43  28.259837     29"
      ],
      "text/html": "<div>\n<style scoped>\n    .dataframe tbody tr th:only-of-type {\n        vertical-align: middle;\n    }\n\n    .dataframe tbody tr th {\n        vertical-align: top;\n    }\n\n    .dataframe thead tr th {\n        text-align: left;\n    }\n\n    .dataframe thead tr:last-of-type th {\n        text-align: right;\n    }\n</style>\n<table border=\"1\" class=\"dataframe\">\n  <thead>\n    <tr>\n      <th></th>\n      <th colspan=\"4\" halign=\"left\">max_temp(celcius)</th>\n    </tr>\n    <tr>\n      <th></th>\n      <th>min</th>\n      <th>max</th>\n      <th>mean</th>\n      <th>median</th>\n    </tr>\n    <tr>\n      <th>province</th>\n      <th></th>\n      <th></th>\n      <th></th>\n      <th></th>\n    </tr>\n  </thead>\n  <tbody>\n    <tr>\n      <th>Bac Lieu</th>\n      <td>22</td>\n      <td>39</td>\n      <td>31.981974</td>\n      <td>32</td>\n    </tr>\n    <tr>\n      <th>Ben Tre</th>\n      <td>21</td>\n      <td>41</td>\n      <td>32.680809</td>\n      <td>33</td>\n    </tr>\n    <tr>\n      <th>Bien Hoa</th>\n      <td>22</td>\n      <td>41</td>\n      <td>32.992306</td>\n      <td>33</td>\n    </tr>\n    <tr>\n      <th>Buon Me Thuot</th>\n      <td>18</td>\n      <td>42</td>\n      <td>30.645856</td>\n      <td>31</td>\n    </tr>\n    <tr>\n      <th>Ca Mau</th>\n      <td>22</td>\n      <td>39</td>\n      <td>31.660365</td>\n      <td>32</td>\n    </tr>\n    <tr>\n      <th>Cam Pha</th>\n      <td>8</td>\n      <td>34</td>\n      <td>25.486920</td>\n      <td>26</td>\n    </tr>\n    <tr>\n      <th>Cam Ranh</th>\n      <td>22</td>\n      <td>35</td>\n      <td>28.851396</td>\n      <td>29</td>\n    </tr>\n    <tr>\n      <th>Can Tho</th>\n      <td>22</td>\n      <td>40</td>\n      <td>32.451088</td>\n      <td>32</td>\n    </tr>\n    <tr>\n      <th>Chau Doc</th>\n      <td>22</td>\n      <td>40</td>\n      <td>32.818202</td>\n      <td>33</td>\n    </tr>\n    <tr>\n      <th>Da Lat</th>\n      <td>14</td>\n      <td>36</td>\n      <td>25.871840</td>\n      <td>26</td>\n    </tr>\n    <tr>\n      <th>Ha Noi</th>\n      <td>7</td>\n      <td>45</td>\n      <td>29.489998</td>\n      <td>30</td>\n    </tr>\n    <tr>\n      <th>Hai Duong</th>\n      <td>8</td>\n      <td>40</td>\n      <td>28.189712</td>\n      <td>29</td>\n    </tr>\n    <tr>\n      <th>Hai Phong</th>\n      <td>7</td>\n      <td>39</td>\n      <td>27.633985</td>\n      <td>28</td>\n    </tr>\n    <tr>\n      <th>Hanoi</th>\n      <td>7</td>\n      <td>45</td>\n      <td>29.489998</td>\n      <td>30</td>\n    </tr>\n    <tr>\n      <th>Ho Chi Minh City</th>\n      <td>22</td>\n      <td>41</td>\n      <td>32.992306</td>\n      <td>33</td>\n    </tr>\n    <tr>\n      <th>Hoa Binh</th>\n      <td>4</td>\n      <td>46</td>\n      <td>28.619697</td>\n      <td>29</td>\n    </tr>\n    <tr>\n      <th>Hong Gai</th>\n      <td>8</td>\n      <td>35</td>\n      <td>25.650253</td>\n      <td>27</td>\n    </tr>\n    <tr>\n      <th>Hue</th>\n      <td>15</td>\n      <td>39</td>\n      <td>29.256760</td>\n      <td>30</td>\n    </tr>\n    <tr>\n      <th>Long Xuyen</th>\n      <td>23</td>\n      <td>40</td>\n      <td>32.693559</td>\n      <td>33</td>\n    </tr>\n    <tr>\n      <th>My Tho</th>\n      <td>21</td>\n      <td>41</td>\n      <td>32.680809</td>\n      <td>33</td>\n    </tr>\n    <tr>\n      <th>Nam Dinh</th>\n      <td>6</td>\n      <td>43</td>\n      <td>28.790284</td>\n      <td>29</td>\n    </tr>\n    <tr>\n      <th>Nha Trang</th>\n      <td>19</td>\n      <td>36</td>\n      <td>28.899319</td>\n      <td>29</td>\n    </tr>\n    <tr>\n      <th>Phan Rang</th>\n      <td>22</td>\n      <td>35</td>\n      <td>28.851396</td>\n      <td>29</td>\n    </tr>\n    <tr>\n      <th>Phan Thiet</th>\n      <td>23</td>\n      <td>37</td>\n      <td>31.395911</td>\n      <td>32</td>\n    </tr>\n    <tr>\n      <th>Play Cu</th>\n      <td>16</td>\n      <td>40</td>\n      <td>28.647175</td>\n      <td>29</td>\n    </tr>\n    <tr>\n      <th>Qui Nhon</th>\n      <td>19</td>\n      <td>36</td>\n      <td>29.027918</td>\n      <td>29</td>\n    </tr>\n    <tr>\n      <th>Rach Gia</th>\n      <td>22</td>\n      <td>40</td>\n      <td>31.037371</td>\n      <td>31</td>\n    </tr>\n    <tr>\n      <th>Soc Trang</th>\n      <td>22</td>\n      <td>39</td>\n      <td>31.981974</td>\n      <td>32</td>\n    </tr>\n    <tr>\n      <th>Tam Ky</th>\n      <td>18</td>\n      <td>40</td>\n      <td>29.246428</td>\n      <td>29</td>\n    </tr>\n    <tr>\n      <th>Tan An</th>\n      <td>22</td>\n      <td>41</td>\n      <td>32.920202</td>\n      <td>33</td>\n    </tr>\n    <tr>\n      <th>Thai Nguyen</th>\n      <td>6</td>\n      <td>42</td>\n      <td>28.044625</td>\n      <td>29</td>\n    </tr>\n    <tr>\n      <th>Thanh Hoa</th>\n      <td>7</td>\n      <td>41</td>\n      <td>28.216971</td>\n      <td>29</td>\n    </tr>\n    <tr>\n      <th>Tra Vinh</th>\n      <td>21</td>\n      <td>39</td>\n      <td>31.632007</td>\n      <td>32</td>\n    </tr>\n    <tr>\n      <th>Tuy Hoa</th>\n      <td>19</td>\n      <td>36</td>\n      <td>29.027918</td>\n      <td>29</td>\n    </tr>\n    <tr>\n      <th>Uong Bi</th>\n      <td>5</td>\n      <td>37</td>\n      <td>26.362058</td>\n      <td>27</td>\n    </tr>\n    <tr>\n      <th>Viet Tri</th>\n      <td>6</td>\n      <td>43</td>\n      <td>28.259837</td>\n      <td>29</td>\n    </tr>\n    <tr>\n      <th>Vinh</th>\n      <td>8</td>\n      <td>40</td>\n      <td>28.232579</td>\n      <td>29</td>\n    </tr>\n    <tr>\n      <th>Vinh Long</th>\n      <td>22</td>\n      <td>40</td>\n      <td>32.542097</td>\n      <td>33</td>\n    </tr>\n    <tr>\n      <th>Vung Tau</th>\n      <td>23</td>\n      <td>35</td>\n      <td>29.977358</td>\n      <td>30</td>\n    </tr>\n    <tr>\n      <th>Yen Bai</th>\n      <td>6</td>\n      <td>43</td>\n      <td>28.259837</td>\n      <td>29</td>\n    </tr>\n  </tbody>\n</table>\n</div>"
     },
     "metadata": {},
     "execution_count": 18
    }
   ],
   "source": [
    "weather.groupby('province').agg({'max_temp(celcius)':['min', 'max', 'mean', 'median']})"
   ]
  }
 ]
}