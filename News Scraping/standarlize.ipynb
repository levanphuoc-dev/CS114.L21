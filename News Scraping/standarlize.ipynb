{
 "metadata": {
  "language_info": {
   "codemirror_mode": {
    "name": "ipython",
    "version": 3
   },
   "file_extension": ".py",
   "mimetype": "text/x-python",
   "name": "python",
   "nbconvert_exporter": "python",
   "pygments_lexer": "ipython3",
   "version": "3.7.10"
  },
  "orig_nbformat": 2,
  "kernelspec": {
   "name": "python3710jvsc74a57bd005f67ca6b088aedcf9ce867f0104c3ffc4e723b9785bf95b0972f9b09ce6c081",
   "display_name": "Python 3.7.10 64-bit ('ds': conda)"
  }
 },
 "nbformat": 4,
 "nbformat_minor": 2,
 "cells": [
  {
   "cell_type": "code",
   "execution_count": 1,
   "metadata": {},
   "outputs": [],
   "source": [
    "import pandas"
   ]
  },
  {
   "cell_type": "code",
   "execution_count": 2,
   "metadata": {},
   "outputs": [],
   "source": [
    "# 19521225\n",
    "df_19521225 = pandas.read_csv('./19521225/news/all.csv')"
   ]
  },
  {
   "cell_type": "code",
   "execution_count": 3,
   "metadata": {},
   "outputs": [],
   "source": [
    "# 19521731\n",
    "df_ClickHole = pandas.read_csv('./19521731/news/crawled_data/ClickHole.csv')\n",
    "df_NewYorker = pandas.read_csv('./19521731/news/crawled_data/NewYorker.csv')\n",
    "df_TheBabylonBee = pandas.read_csv('./19521731/news/crawled_data/TheBabylonBee.csv')\n",
    "\n",
    "df_ClickHole = df_ClickHole.iloc[:, 1:]\n",
    "df_NewYorker = df_NewYorker.iloc[:, 1:]\n",
    "df_TheBabylonBee = df_TheBabylonBee.iloc[:, 1:]\n",
    "\n",
    "df_19521731 = pandas.concat([df_ClickHole, df_TheBabylonBee, df_NewYorker])"
   ]
  },
  {
   "cell_type": "code",
   "execution_count": 4,
   "metadata": {},
   "outputs": [],
   "source": [
    "# 19522054\n",
    "df_0 = pandas.read_csv('./19522054/news/data_0.csv')\n",
    "df_1 = pandas.read_csv('./19522054/news/data_1.csv')\n",
    "\n",
    "df_19522054 = pandas.concat([df_0, df_1])"
   ]
  },
  {
   "cell_type": "code",
   "execution_count": 5,
   "metadata": {},
   "outputs": [],
   "source": [
    "df_result = pandas.concat([df_19522054, df_19521225, df_19521731]).iloc[:, :-1]"
   ]
  },
  {
   "cell_type": "code",
   "execution_count": 8,
   "metadata": {},
   "outputs": [],
   "source": [
    "df_result.to_json('data.json', orient='records')\n",
    "df_result.to_csv('data.csv', index=False)"
   ]
  }
 ]
}